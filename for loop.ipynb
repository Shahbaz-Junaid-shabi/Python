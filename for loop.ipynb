{
 "cells": [
  {
   "cell_type": "markdown",
   "id": "847f8614-515b-4b50-9ffa-5dd84fd19c89",
   "metadata": {},
   "source": [
    "# For Loop"
   ]
  },
  {
   "cell_type": "code",
   "execution_count": 1,
   "id": "ba3813ca-f7a7-405a-931d-248890de4beb",
   "metadata": {},
   "outputs": [
    {
     "name": "stdout",
     "output_type": "stream",
     "text": [
      "python\n",
      "go\n",
      "c++\n",
      "r\n"
     ]
    }
   ],
   "source": [
    "words = ['python','go','c++','r']\n",
    "\n",
    "for i in words:\n",
    "    print(i)"
   ]
  },
  {
   "cell_type": "code",
   "execution_count": 3,
   "id": "834f8c75-e79e-4ecd-b112-5200eb0eaf3e",
   "metadata": {},
   "outputs": [
    {
     "name": "stdout",
     "output_type": "stream",
     "text": [
      "python length 6\n",
      "go length 2\n",
      "c++ length 3\n",
      "r length 1\n"
     ]
    }
   ],
   "source": [
    "words = ['python','go','c++','r']\n",
    "\n",
    "for i in words:\n",
    "    print(i,'length',len(i))"
   ]
  },
  {
   "cell_type": "code",
   "execution_count": 6,
   "id": "697e0df7-1fd2-4e07-9aac-37ff76f57df2",
   "metadata": {},
   "outputs": [
    {
     "name": "stdout",
     "output_type": "stream",
     "text": [
      "apple\n",
      "banana\n",
      "cherry\n"
     ]
    }
   ],
   "source": [
    "fruits = [\"apple\", \"banana\", \"cherry\"]\n",
    "for f in fruits:\n",
    "    print(f)\n"
   ]
  },
  {
   "cell_type": "markdown",
   "id": "380b0719-7f0e-4474-abd1-efb83ee3b001",
   "metadata": {},
   "source": [
    "# Range function in python"
   ]
  },
  {
   "cell_type": "code",
   "execution_count": 9,
   "id": "83baf001-9860-4393-ad6a-dd1ed019a9fa",
   "metadata": {},
   "outputs": [
    {
     "name": "stdout",
     "output_type": "stream",
     "text": [
      "0\n",
      "1\n",
      "2\n",
      "3\n",
      "4\n",
      "5\n",
      "6\n",
      "7\n",
      "8\n",
      "9\n"
     ]
    }
   ],
   "source": [
    "for no in range(10):\n",
    "    print(no)"
   ]
  },
  {
   "cell_type": "code",
   "execution_count": 11,
   "id": "76867def-2cd8-4d88-a2e4-5fb2a787dc5d",
   "metadata": {},
   "outputs": [
    {
     "name": "stdout",
     "output_type": "stream",
     "text": [
      "2\n",
      "4\n",
      "6\n",
      "8\n"
     ]
    }
   ],
   "source": [
    "for i in range(2, 10, 2):\n",
    "    print(i)\n"
   ]
  },
  {
   "cell_type": "code",
   "execution_count": 14,
   "id": "1d59701b-ad26-4daa-b6a2-d4391d9532f6",
   "metadata": {},
   "outputs": [
    {
     "name": "stdout",
     "output_type": "stream",
     "text": [
      "0\n",
      "1\n",
      "2\n",
      "3\n",
      "4\n",
      "5\n",
      "6\n",
      "7\n",
      "8\n",
      "9\n",
      "10\n"
     ]
    }
   ],
   "source": [
    "for i in range(11):\n",
    " print(i)"
   ]
  },
  {
   "cell_type": "code",
   "execution_count": 19,
   "id": "57f05b77-ec2c-471b-82f1-25d68ae9542a",
   "metadata": {},
   "outputs": [
    {
     "name": "stdout",
     "output_type": "stream",
     "text": [
      "apple\n",
      "my fav fruit in there\n",
      "banana\n",
      "cherry\n"
     ]
    }
   ],
   "source": [
    "fruits = [\"apple\", \"banana\", \"cherry\"]\n",
    "for f in fruits:\n",
    "    print(f)\n",
    "    if f == \"apple\":\n",
    "        print('my fav fruit in there')\n",
    "\n"
   ]
  },
  {
   "cell_type": "markdown",
   "id": "67e9844e-ec41-405c-99ed-3a3e8f7844f0",
   "metadata": {},
   "source": [
    "# break statement"
   ]
  },
  {
   "cell_type": "code",
   "execution_count": 26,
   "id": "9f26fc2c-d3a1-4376-bcd1-ff8b263f75a4",
   "metadata": {},
   "outputs": [
    {
     "name": "stdout",
     "output_type": "stream",
     "text": [
      "0\n",
      "1\n",
      "2\n"
     ]
    }
   ],
   "source": [
    "for i in range(5):\n",
    "    if i == 3:\n",
    "        break # break skip the after condition\n",
    "    print(i)\n"
   ]
  },
  {
   "cell_type": "markdown",
   "id": "8abc11b6-7c24-4bfb-9c2e-eeeee988c581",
   "metadata": {},
   "source": [
    "# Continue Statement"
   ]
  },
  {
   "cell_type": "code",
   "execution_count": 25,
   "id": "b3b17cb4-c583-4372-8cc7-d4442d5e614a",
   "metadata": {},
   "outputs": [
    {
     "name": "stdout",
     "output_type": "stream",
     "text": [
      "0\n",
      "1\n",
      "2\n",
      "4\n"
     ]
    }
   ],
   "source": [
    "for i in range(5):\n",
    "    if i == 3:\n",
    "        continue # continue skip that iteration \n",
    "    print(i)\n"
   ]
  },
  {
   "cell_type": "code",
   "execution_count": 29,
   "id": "0ee5d1b2-6acd-4823-b9fe-8969e4a0ed59",
   "metadata": {},
   "outputs": [
    {
     "name": "stdout",
     "output_type": "stream",
     "text": [
      "1 2 3 \n",
      "4 5 6 \n",
      "7 8 9 \n"
     ]
    }
   ],
   "source": [
    "matrix = [\n",
    "    [1, 2, 3],\n",
    "    [4, 5, 6],\n",
    "    [7, 8, 9]\n",
    "]\n",
    "\n",
    "for row in matrix:\n",
    "    for item in row:\n",
    "        print(item, end=' ')\n",
    "    print()\n"
   ]
  },
  {
   "cell_type": "code",
   "execution_count": 32,
   "id": "6a5e5172-052a-4f3e-a98c-b67a19055252",
   "metadata": {},
   "outputs": [
    {
     "name": "stdout",
     "output_type": "stream",
     "text": [
      "name\n",
      "age\n",
      "city\n",
      "Alice\n",
      "25\n",
      "New York\n",
      "name: Alice\n",
      "age: 25\n",
      "city: New York\n"
     ]
    }
   ],
   "source": [
    "person = {\"name\": \"Alice\", \"age\": 25, \"city\": \"New York\"}\n",
    "\n",
    "# Loop through keys\n",
    "for key in person:\n",
    "    print(key)\n",
    "\n",
    "# Loop through values\n",
    "for value in person.values():\n",
    "    print(value)\n",
    "\n",
    "# Loop through both keys and values\n",
    "for key, value in person.items():\n",
    "    print(f\"{key}: {value}\")\n"
   ]
  },
  {
   "cell_type": "code",
   "execution_count": 37,
   "id": "605c03e3-8358-4f32-bdeb-e244ec7a2683",
   "metadata": {},
   "outputs": [
    {
     "name": "stdout",
     "output_type": "stream",
     "text": [
      "[0, 1, 4, 9, 16]\n"
     ]
    }
   ],
   "source": [
    "squares = [x ** 2 for x in range(5)]\n",
    "print(squares)\n"
   ]
  },
  {
   "cell_type": "markdown",
   "id": "3ef3c380-a564-45b0-ab6f-0f2b52d154d8",
   "metadata": {},
   "source": [
    "#  get indexing with the help of enumerate function"
   ]
  },
  {
   "cell_type": "code",
   "execution_count": 43,
   "id": "49afd649-3a3d-42ce-83ed-58e4f2b2843b",
   "metadata": {},
   "outputs": [
    {
     "name": "stdout",
     "output_type": "stream",
     "text": [
      "0 apple\n",
      "1 banana\n",
      "2 cherry\n",
      "indexing\n",
      "0 apple\n",
      "1 banana\n",
      "2 cherry\n"
     ]
    }
   ],
   "source": [
    "fruits = [\"apple\", \"banana\", \"cherry\"]\n",
    "\n",
    "for index, fruit in enumerate(fruits):\n",
    "    print(index, fruit)\n",
    "print('indexing')\n",
    "for i,f in enumerate(fruits):\n",
    "    print(i,f)"
   ]
  },
  {
   "cell_type": "code",
   "execution_count": 44,
   "id": "463adfbd-28e8-4576-93de-af4f3f52c2e5",
   "metadata": {},
   "outputs": [
    {
     "name": "stdout",
     "output_type": "stream",
     "text": [
      "2\n",
      "3\n",
      "Cannot add to three, not a number.\n",
      "5\n"
     ]
    }
   ],
   "source": [
    "data = [1, 2, \"three\", 4]\n",
    "\n",
    "for item in data:\n",
    "    try:\n",
    "        result = item + 1\n",
    "    except TypeError:\n",
    "        print(f\"Cannot add to {item}, not a number.\")\n",
    "    else:\n",
    "        print(result)\n"
   ]
  },
  {
   "cell_type": "code",
   "execution_count": null,
   "id": "54fd28a8-7c84-484b-a106-37adce30f5d8",
   "metadata": {},
   "outputs": [],
   "source": []
  }
 ],
 "metadata": {
  "kernelspec": {
   "display_name": "Python 3 (ipykernel)",
   "language": "python",
   "name": "python3"
  },
  "language_info": {
   "codemirror_mode": {
    "name": "ipython",
    "version": 3
   },
   "file_extension": ".py",
   "mimetype": "text/x-python",
   "name": "python",
   "nbconvert_exporter": "python",
   "pygments_lexer": "ipython3",
   "version": "3.12.0"
  },
  "widgets": {
   "application/vnd.jupyter.widget-state+json": {
    "state": {},
    "version_major": 2,
    "version_minor": 0
   }
  }
 },
 "nbformat": 4,
 "nbformat_minor": 5
}
