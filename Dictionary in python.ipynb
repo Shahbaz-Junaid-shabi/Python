{
 "cells": [
  {
   "cell_type": "markdown",
   "id": "af36738e-003e-419f-ad3c-eafcc0695f01",
   "metadata": {},
   "source": [
    "# Creating Dictionary\n"
   ]
  },
  {
   "cell_type": "code",
   "execution_count": 1,
   "id": "34716d0b-807e-415f-bb42-56ea030398e0",
   "metadata": {},
   "outputs": [
    {
     "name": "stdout",
     "output_type": "stream",
     "text": [
      "{'name': 'John', 'age': 25, 'city': 'New York'}\n"
     ]
    }
   ],
   "source": [
    "# Empty dictionary\n",
    "empty_dict = {}\n",
    "\n",
    "# Dictionary with values\n",
    "person = {\n",
    "    \"name\": \"John\",\n",
    "    \"age\": 25,\n",
    "    \"city\": \"New York\"\n",
    "}\n",
    "\n",
    "# Using the dict() constructor\n",
    "person2 = dict(name=\"Alice\", age=30, city=\"Los Angeles\")\n",
    "\n",
    "print(person)  # Output: {'name': 'John', 'age': 25, 'city': 'New York'}\n"
   ]
  },
  {
   "cell_type": "code",
   "execution_count": 9,
   "id": "b2987487-aa23-4b78-81c9-ecf503177c5a",
   "metadata": {},
   "outputs": [
    {
     "name": "stdout",
     "output_type": "stream",
     "text": [
      "{1: 'shaybi', 2: 'value', 'key': 'value'}\n",
      "{'key': 'value', 'upto': '....so on'}\n"
     ]
    }
   ],
   "source": [
    "d = { 1:\"shaybi\",\n",
    "       2:\"value\",\n",
    "    'key' :\"value\"}\n",
    "print(d)\n",
    "\n",
    "di = dict(key = \"value\",upto = '....so on')\n",
    "print(di)"
   ]
  },
  {
   "cell_type": "markdown",
   "id": "0022388f-dbb8-43ec-bd53-fef43c4c80bf",
   "metadata": {},
   "source": [
    "# list into dictionay store"
   ]
  },
  {
   "cell_type": "code",
   "execution_count": 11,
   "id": "6e82ae5e-3b26-4a58-bd85-4d34c914b58e",
   "metadata": {},
   "outputs": [
    {
     "name": "stdout",
     "output_type": "stream",
     "text": [
      "{'fruits': ['mango', 'apple', 'banana'], 'mobile': ['vivo', 'iphone']}\n"
     ]
    }
   ],
   "source": [
    "dic = {'fruits' : ['mango','apple','banana'],'mobile':['vivo','iphone']}\n",
    "print(dic)"
   ]
  },
  {
   "cell_type": "markdown",
   "id": "1cbd3878-e725-4f74-9412-ab47cc1715fc",
   "metadata": {},
   "source": [
    "# Accessing the value value of Dictionary"
   ]
  },
  {
   "cell_type": "code",
   "execution_count": 18,
   "id": "30ba2748-fb1a-4eaa-b0b2-b141ce00baf9",
   "metadata": {},
   "outputs": [
    {
     "name": "stdout",
     "output_type": "stream",
     "text": [
      "['mango', 'apple', 'banana']\n",
      "['vivo', 'iphone']\n"
     ]
    }
   ],
   "source": [
    "print(dic['fruits'])\n",
    "# or \n",
    "x = dic['mobile']\n",
    "print(x)"
   ]
  },
  {
   "cell_type": "markdown",
   "id": "1961c854-0694-48c4-b3e0-93b513fd8266",
   "metadata": {},
   "source": [
    "# by Using Get() method"
   ]
  },
  {
   "cell_type": "code",
   "execution_count": 19,
   "id": "accd1b54-a488-4d5d-8427-15a3ff42a86d",
   "metadata": {},
   "outputs": [
    {
     "name": "stdout",
     "output_type": "stream",
     "text": [
      "['vivo', 'iphone']\n"
     ]
    }
   ],
   "source": [
    "print(dic.get('mobile'))"
   ]
  },
  {
   "cell_type": "markdown",
   "id": "302c9ac7-50cf-45a4-8035-cf325537c2ee",
   "metadata": {},
   "source": [
    "# Items() Method"
   ]
  },
  {
   "cell_type": "code",
   "execution_count": 20,
   "id": "9f910c39-d8df-412f-a6f5-1359b34cb0c7",
   "metadata": {},
   "outputs": [
    {
     "name": "stdout",
     "output_type": "stream",
     "text": [
      "dict_items([('fruits', ['mango', 'apple', 'banana']), ('mobile', ['vivo', 'iphone'])])\n"
     ]
    }
   ],
   "source": [
    "print(dic.items())\n",
    "# give the output into a list"
   ]
  },
  {
   "cell_type": "code",
   "execution_count": 21,
   "id": "b4f2f534-36a3-403b-ac19-3b4471e0cfd9",
   "metadata": {},
   "outputs": [],
   "source": [
    "# Dictionay key cannot be change but we can do the value change "
   ]
  },
  {
   "cell_type": "code",
   "execution_count": 22,
   "id": "69539d4f-6ed2-4512-9af2-629f800710ad",
   "metadata": {},
   "outputs": [
    {
     "name": "stdout",
     "output_type": "stream",
     "text": [
      "{'fruits': ['mango', 'apple', 'banana'], 'mobile': ['oneplus', 'samsung']}\n"
     ]
    }
   ],
   "source": [
    "dic['mobile'] = ['oneplus','samsung']\n",
    "print(dic)"
   ]
  },
  {
   "cell_type": "code",
   "execution_count": 23,
   "id": "5c5820bc-9b16-418d-bab7-fcbde6de83b1",
   "metadata": {},
   "outputs": [
    {
     "data": {
      "text/plain": [
       "['oneplus', 'samsung']"
      ]
     },
     "execution_count": 23,
     "metadata": {},
     "output_type": "execute_result"
    }
   ],
   "source": [
    "dic['mobile']"
   ]
  },
  {
   "cell_type": "markdown",
   "id": "00dd2092-0881-42fe-9073-9b03eeaa709b",
   "metadata": {},
   "source": [
    "# Update() Method using update value\n"
   ]
  },
  {
   "cell_type": "code",
   "execution_count": 25,
   "id": "b5837b84-f6d6-42dd-8bf1-d8513cfb436d",
   "metadata": {},
   "outputs": [
    {
     "data": {
      "text/plain": [
       "{'fruits': ['mango', 'apple', 'banana'], 'mobile': ['oneplus', 'samsung']}"
      ]
     },
     "execution_count": 25,
     "metadata": {},
     "output_type": "execute_result"
    }
   ],
   "source": [
    "# we can also give the key and also give value using update() method\n",
    "dic"
   ]
  },
  {
   "cell_type": "code",
   "execution_count": 36,
   "id": "6ddb5ae4-0366-45dc-9f7e-3770af768465",
   "metadata": {},
   "outputs": [
    {
     "name": "stdout",
     "output_type": "stream",
     "text": [
      "{'fruits': ['mango', 'apple', 'banana'], 'mobile': ['techno', 'nophone']}\n"
     ]
    }
   ],
   "source": [
    "dic.update({'mobile' : ['techno','nophone']})\n",
    "print(dic)"
   ]
  },
  {
   "cell_type": "markdown",
   "id": "051e5fbc-6d1b-4c22-8353-bd43a7ccefb2",
   "metadata": {},
   "source": [
    "# Remove Value from Dictionary"
   ]
  },
  {
   "cell_type": "code",
   "execution_count": 40,
   "id": "ec7e43bc-2c4e-47d9-9c02-937cbf9b77bc",
   "metadata": {},
   "outputs": [
    {
     "name": "stdout",
     "output_type": "stream",
     "text": [
      "{'fruits': ['mango', 'apple', 'banana']}\n"
     ]
    }
   ],
   "source": [
    "dic.pop('mobile')\n",
    "print(dic)"
   ]
  },
  {
   "cell_type": "markdown",
   "id": "fef78af9-3965-48d3-bdca-87e500b2d8ba",
   "metadata": {},
   "source": [
    "# Using Popitems() method"
   ]
  },
  {
   "cell_type": "code",
   "execution_count": 45,
   "id": "715567c4-f26b-40d4-8e3c-05b7c339e981",
   "metadata": {},
   "outputs": [
    {
     "name": "stdout",
     "output_type": "stream",
     "text": [
      "{'name': 'John', 'age': 25, 'city': 'New York'}\n"
     ]
    },
    {
     "data": {
      "text/plain": [
       "{'name': 'John', 'age': 25}"
      ]
     },
     "execution_count": 45,
     "metadata": {},
     "output_type": "execute_result"
    }
   ],
   "source": [
    "# Dictionary with values\n",
    "person = {\n",
    "    \"name\": \"John\",\n",
    "    \"age\": 25,\n",
    "    \"city\": \"New York\"\n",
    "}\n",
    "print(person)\n",
    "person.popitem()\n",
    "person\n",
    "# pop or remove the last value using the popitem method"
   ]
  },
  {
   "cell_type": "code",
   "execution_count": 51,
   "id": "2a8088c2-eac2-408e-b19c-0c171bc84430",
   "metadata": {},
   "outputs": [
    {
     "data": {
      "text/plain": [
       "{'name': 'John'}"
      ]
     },
     "execution_count": 51,
     "metadata": {},
     "output_type": "execute_result"
    }
   ],
   "source": [
    "\n",
    "# del() using delete the value\n",
    "\n",
    "del person['age']\n",
    "person"
   ]
  },
  {
   "cell_type": "markdown",
   "id": "1ab3b4cb-3e44-4a5c-a14a-10ed93f252bd",
   "metadata": {},
   "source": [
    "# Clear  method"
   ]
  },
  {
   "cell_type": "code",
   "execution_count": 58,
   "id": "cb0ccd13-b6d5-4818-b42c-a1c8196f2fa0",
   "metadata": {},
   "outputs": [
    {
     "name": "stdout",
     "output_type": "stream",
     "text": [
      "{}\n"
     ]
    }
   ],
   "source": [
    "person.clear()\n",
    "print(person)"
   ]
  },
  {
   "cell_type": "markdown",
   "id": "675d139f-7dc8-4d08-962c-872bed2756e7",
   "metadata": {},
   "source": [
    "# Keys of Dict"
   ]
  },
  {
   "cell_type": "code",
   "execution_count": 59,
   "id": "4c2915a0-dc29-46f7-9233-72cbe3319b86",
   "metadata": {},
   "outputs": [
    {
     "data": {
      "text/plain": [
       "dict_keys(['name', 'age', 'city'])"
      ]
     },
     "execution_count": 59,
     "metadata": {},
     "output_type": "execute_result"
    }
   ],
   "source": [
    "# Dictionary with values\n",
    "person = {\n",
    "    \"name\": \"John\",\n",
    "    \"age\": 25,\n",
    "    \"city\": \"New York\"\n",
    "}\n",
    "\n",
    "person.keys()"
   ]
  },
  {
   "cell_type": "markdown",
   "id": "32252787-edc0-4089-ba3e-925d13e0ed4e",
   "metadata": {},
   "source": [
    "# Values of Dict"
   ]
  },
  {
   "cell_type": "code",
   "execution_count": 60,
   "id": "e7b848a0-583d-4594-afa8-eeba12018c08",
   "metadata": {},
   "outputs": [
    {
     "data": {
      "text/plain": [
       "dict_values(['John', 25, 'New York'])"
      ]
     },
     "execution_count": 60,
     "metadata": {},
     "output_type": "execute_result"
    }
   ],
   "source": [
    "person.values()"
   ]
  },
  {
   "cell_type": "code",
   "execution_count": null,
   "id": "10714da5-7a4c-4e63-bca1-69d7584fe23d",
   "metadata": {},
   "outputs": [],
   "source": []
  }
 ],
 "metadata": {
  "kernelspec": {
   "display_name": "Python 3 (ipykernel)",
   "language": "python",
   "name": "python3"
  },
  "language_info": {
   "codemirror_mode": {
    "name": "ipython",
    "version": 3
   },
   "file_extension": ".py",
   "mimetype": "text/x-python",
   "name": "python",
   "nbconvert_exporter": "python",
   "pygments_lexer": "ipython3",
   "version": "3.12.0"
  },
  "widgets": {
   "application/vnd.jupyter.widget-state+json": {
    "state": {},
    "version_major": 2,
    "version_minor": 0
   }
  }
 },
 "nbformat": 4,
 "nbformat_minor": 5
}
