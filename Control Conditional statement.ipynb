{
 "cells": [
  {
   "cell_type": "markdown",
   "id": "b9bb07ae-f6ce-4c6e-87b2-a64a75e29a46",
   "metadata": {
    "jupyter": {
     "source_hidden": true
    }
   },
   "source": [
    "# Break Statement "
   ]
  },
  {
   "cell_type": "code",
   "execution_count": 6,
   "id": "3178f705-3bf0-413e-a294-f2626aaed5f8",
   "metadata": {},
   "outputs": [
    {
     "name": "stdout",
     "output_type": "stream",
     "text": [
      "1\n",
      "2\n",
      "3\n",
      "4\n",
      "5\n"
     ]
    }
   ],
   "source": [
    "for i in range(1,11):\n",
    "    print(i)\n",
    "    if i == 5 :\n",
    "        break"
   ]
  },
  {
   "cell_type": "code",
   "execution_count": 7,
   "id": "4ef77037-b2f2-413a-8c08-3b41ea543070",
   "metadata": {},
   "outputs": [
    {
     "name": "stdout",
     "output_type": "stream",
     "text": [
      "1\n",
      "2\n",
      "3\n",
      "4\n"
     ]
    }
   ],
   "source": [
    "for i in range(1,11):\n",
    "    if i == 5 :\n",
    "        break\n",
    "    print(i)\n",
    "        "
   ]
  },
  {
   "cell_type": "markdown",
   "id": "5cb181ca-115b-486e-84d6-8dfd08ea38cf",
   "metadata": {},
   "source": [
    "# Continue Statement"
   ]
  },
  {
   "cell_type": "code",
   "execution_count": 18,
   "id": "8c17bd4f-c662-424f-8e5b-8fbcc19205a2",
   "metadata": {},
   "outputs": [
    {
     "name": "stdout",
     "output_type": "stream",
     "text": [
      "1\n",
      "jadssdfjasd\n",
      "3\n",
      "4\n",
      "5\n",
      "6\n",
      "7\n",
      "8\n",
      "9\n",
      "10\n"
     ]
    }
   ],
   "source": [
    "for i in range(1,11):\n",
    "  if i == 2:\n",
    "   print(\"jadssdfjasd\")   \n",
    "   continue\n",
    "  print(i)\n",
    "      "
   ]
  },
  {
   "cell_type": "code",
   "execution_count": 21,
   "id": "7dfe568c-91f3-4d9e-a6ae-96da1e50cceb",
   "metadata": {},
   "outputs": [
    {
     "name": "stdout",
     "output_type": "stream",
     "text": [
      "1\n",
      "jadssdfjasd\n",
      "3\n",
      "4\n",
      "5\n",
      "6\n",
      "7\n",
      "8\n",
      "9\n",
      "10\n"
     ]
    }
   ],
   "source": [
    "for i in range(1,11):\n",
    "  if i == 2:\n",
    "   print(\"jadssdfjasd\")   \n",
    "   continue\n",
    "  print(i)\n",
    "      "
   ]
  },
  {
   "cell_type": "code",
   "execution_count": 24,
   "id": "4dc92df8-7f45-40f0-8b79-a3953bd48469",
   "metadata": {},
   "outputs": [],
   "source": [
    "for i in range(10):\n",
    "  pass"
   ]
  },
  {
   "cell_type": "markdown",
   "id": "d114a7b3-013c-4ddb-a0f3-e850b3bc99c9",
   "metadata": {},
   "source": [
    "#  Pass Statement\n"
   ]
  },
  {
   "cell_type": "code",
   "execution_count": 25,
   "id": "a1032989-c46b-4e17-be2e-92b609264559",
   "metadata": {},
   "outputs": [
    {
     "name": "stdout",
     "output_type": "stream",
     "text": [
      "1\n",
      "2\n",
      "3\n",
      "4\n",
      "5\n"
     ]
    }
   ],
   "source": [
    "for i in range(1, 6):\n",
    "    if i == 3:\n",
    "        pass  # does nothing\n",
    "    print(i)\n"
   ]
  },
  {
   "cell_type": "code",
   "execution_count": 26,
   "id": "db520d6a-2757-4166-a8eb-08f0971dfb87",
   "metadata": {},
   "outputs": [
    {
     "name": "stdin",
     "output_type": "stream",
     "text": [
      "Enter username:  ashdah\n",
      "Enter password:  32432\n"
     ]
    },
    {
     "name": "stdout",
     "output_type": "stream",
     "text": [
      "Invalid credentials.\n"
     ]
    }
   ],
   "source": [
    "username = \"user\"\n",
    "password = \"pass123\"\n",
    "\n",
    "input_username = input(\"Enter username: \")\n",
    "input_password = input(\"Enter password: \")\n",
    "\n",
    "if input_username == username and input_password == password:\n",
    "    print(\"Login successful!\")\n",
    "else:\n",
    "    print(\"Invalid credentials.\")"
   ]
  },
  {
   "cell_type": "code",
   "execution_count": null,
   "id": "a57c8048-1546-4b8b-99c6-3237bee5153f",
   "metadata": {},
   "outputs": [],
   "source": []
  }
 ],
 "metadata": {
  "kernelspec": {
   "display_name": "Python 3 (ipykernel)",
   "language": "python",
   "name": "python3"
  },
  "language_info": {
   "codemirror_mode": {
    "name": "ipython",
    "version": 3
   },
   "file_extension": ".py",
   "mimetype": "text/x-python",
   "name": "python",
   "nbconvert_exporter": "python",
   "pygments_lexer": "ipython3",
   "version": "3.12.0"
  },
  "widgets": {
   "application/vnd.jupyter.widget-state+json": {
    "state": {},
    "version_major": 2,
    "version_minor": 0
   }
  }
 },
 "nbformat": 4,
 "nbformat_minor": 5
}
