{
 "cells": [
  {
   "cell_type": "markdown",
   "id": "796a05f9-2bc7-4dde-8f25-f9a6ec07e4b7",
   "metadata": {},
   "source": [
    "# Varible in Python Language and its Datatypes"
   ]
  },
  {
   "cell_type": "code",
   "execution_count": 2,
   "id": "244d4691-47c5-44e1-bbaa-e78570d09d97",
   "metadata": {},
   "outputs": [],
   "source": [
    "# Numeric Types\n",
    "age = 25               # Integer\n",
    "price = 19.99          # Float\n",
    "complex_num = 3 + 5j   # Complex\n",
    "\n",
    "# Sequence Types\n",
    "name = \"Alice\"         # String\n",
    "fruits = [\"apple\", \"banana\"]  # List\n",
    "coordinates = (10, 20)  # Tuple\n",
    "\n",
    "# Mapping Type\n",
    "person = {\"name\": \"John\", \"age\": 30}  # Dictionary\n",
    "\n",
    "# Set Types\n",
    "unique_numbers = {1, 2, 3}  # Set\n",
    "frozen_items = frozenset([1, 2, 3])  # Frozenset\n",
    "\n",
    "# Boolean Type\n",
    "is_active = True         # Boolean\n",
    "\n",
    "# Binary Types\n",
    "byte_data = b'Hello'     # Bytes\n",
    "byte_arr = bytearray(5)  # Bytearray\n",
    "\n",
    "# None Type\n",
    "result = None            # NoneType\n"
   ]
  }
 ],
 "metadata": {
  "kernelspec": {
   "display_name": "Python [conda env:base] *",
   "language": "python",
   "name": "conda-base-py"
  },
  "language_info": {
   "codemirror_mode": {
    "name": "ipython",
    "version": 3
   },
   "file_extension": ".py",
   "mimetype": "text/x-python",
   "name": "python",
   "nbconvert_exporter": "python",
   "pygments_lexer": "ipython3",
   "version": "3.12.7"
  }
 },
 "nbformat": 4,
 "nbformat_minor": 5
}
