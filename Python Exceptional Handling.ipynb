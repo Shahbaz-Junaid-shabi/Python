{
 "cells": [
  {
   "cell_type": "markdown",
   "id": "52cc4252-66e6-412f-87ee-57ce1148a3a1",
   "metadata": {},
   "source": [
    "# Exceptional Handling in Python"
   ]
  },
  {
   "cell_type": "code",
   "execution_count": 9,
   "id": "bbabff40-e000-44b1-91f3-007bbb83c1d2",
   "metadata": {},
   "outputs": [
    {
     "name": "stdout",
     "output_type": "stream",
     "text": [
      "hello\n"
     ]
    }
   ],
   "source": [
    "try:\n",
    "    print(\"hello\")\n",
    "    # Code that might raise an exception\n",
    "except:\n",
    "    print(\"execute the except\")\n",
    "    \n",
    "    # Code to run if an exception occurs\n"
   ]
  },
  {
   "cell_type": "code",
   "execution_count": 10,
   "id": "d027d454-0ebe-440a-96c4-92f4eead6c5e",
   "metadata": {},
   "outputs": [
    {
     "name": "stdout",
     "output_type": "stream",
     "text": [
      "An error occurred\n"
     ]
    }
   ],
   "source": [
    "try:\n",
    "    x = 10 / 0  # This will raise a ZeroDivisionError\n",
    "except:\n",
    "    print(\"An error occurred\") # when the code are not porperly run than \n"
   ]
  },
  {
   "cell_type": "code",
   "execution_count": 11,
   "id": "3a50a918-ab64-474f-9c4b-119f909d8954",
   "metadata": {},
   "outputs": [
    {
     "name": "stdout",
     "output_type": "stream",
     "text": [
      "Cannot divide by zero\n"
     ]
    }
   ],
   "source": [
    "try:\n",
    "    x = 10 / 0\n",
    "except ZeroDivisionError:\n",
    "    print(\"Cannot divide by zero\")\n"
   ]
  },
  {
   "cell_type": "markdown",
   "id": "358f2f39-187b-4da8-a256-6355b1a5ea7d",
   "metadata": {},
   "source": [
    "# Multiple Exception handle"
   ]
  },
  {
   "cell_type": "code",
   "execution_count": 19,
   "id": "413fcc9d-75cc-4820-b6a8-1ecdece00b45",
   "metadata": {},
   "outputs": [
    {
     "name": "stdin",
     "output_type": "stream",
     "text": [
      "Enter a number:  3\n"
     ]
    },
    {
     "name": "stdout",
     "output_type": "stream",
     "text": [
      "3.3333333333333335\n"
     ]
    }
   ],
   "source": [
    "try:\n",
    "    value = int(input(\"Enter a number: \"))\n",
    "    result = 10 / value\n",
    "    print(result)\n",
    "except ValueError:\n",
    "    print(\"That's not a valid number!\")\n",
    "except ZeroDivisionError:\n",
    "    print(\"You can't divide by zero!\")\n"
   ]
  },
  {
   "cell_type": "code",
   "execution_count": 24,
   "id": "0d337e1c-89de-4ced-bf97-896f8afee84e",
   "metadata": {},
   "outputs": [
    {
     "name": "stdin",
     "output_type": "stream",
     "text": [
      "Enter the no  0\n"
     ]
    },
    {
     "name": "stdout",
     "output_type": "stream",
     "text": [
      "Cannot divide by zero\n"
     ]
    }
   ],
   "source": [
    "try:\n",
    "    number = int(input(\"Enter the no \"))\n",
    "    x = 10 / number\n",
    "    print(x)\n",
    "except ZeroDivisionError:\n",
    "    print(\"Cannot divide by zero\")\n",
    "else:\n",
    "    print(\"Division was successful!\")\n"
   ]
  },
  {
   "cell_type": "code",
   "execution_count": 54,
   "id": "75cc0cc9-5f2e-4e64-8b6b-6816a77e8a89",
   "metadata": {},
   "outputs": [
    {
     "name": "stdout",
     "output_type": "stream",
     "text": [
      "pythongophpjava\n",
      "Closing file if open\n"
     ]
    }
   ],
   "source": [
    "try:\n",
    "    file = open('myfile2.txt', 'r')\n",
    "    content = file.read()\n",
    "    print(content)\n",
    "except FileNotFoundError:\n",
    "    print(\"File not found\")\n",
    "finally: #finally statement is aslo run it do not depend the condition\n",
    "    print(\"Closing file if open\")\n",
    "    if file:\n",
    "        file.close()\n"
   ]
  },
  {
   "cell_type": "code",
   "execution_count": 38,
   "id": "97b357ff-c22f-42a4-828c-24d149493430",
   "metadata": {},
   "outputs": [
    {
     "name": "stdout",
     "output_type": "stream",
     "text": [
      "1.0\n",
      "This is a custom exception\n"
     ]
    }
   ],
   "source": [
    "class CustomError(Exception):\n",
    "    pass\n",
    "\n",
    "try:\n",
    "    raise CustomError(\"This is a custom exception\")\n",
    "except CustomError as e:\n",
    "    print(e)\n"
   ]
  },
  {
   "cell_type": "code",
   "execution_count": 41,
   "id": "3e6200c9-2479-4a9d-83dd-37f02d86787c",
   "metadata": {},
   "outputs": [
    {
     "name": "stdin",
     "output_type": "stream",
     "text": [
      "Enter a  12\n",
      "Enter b  0\n"
     ]
    },
    {
     "name": "stdout",
     "output_type": "stream",
     "text": [
      "Exception Catch division by zero\n"
     ]
    }
   ],
   "source": [
    "try : \n",
    "    a = int(input(\"Enter a \"))\n",
    "    b = int(input(\"Enter b \"))\n",
    "    result = a/b\n",
    "    print(result)\n",
    "\n",
    "except Exception as e :\n",
    "    print(\"Exception Catch\",e)\n",
    "    "
   ]
  },
  {
   "cell_type": "markdown",
   "id": "d1e31986-d152-4c6c-90ed-d907b09d8090",
   "metadata": {},
   "source": [
    "# Many Exception "
   ]
  },
  {
   "cell_type": "code",
   "execution_count": 53,
   "id": "6d559fe0-bbe9-4237-89ff-93250fa9e596",
   "metadata": {},
   "outputs": [
    {
     "name": "stdout",
     "output_type": "stream",
     "text": [
      "3\n",
      "program is successfully\n"
     ]
    }
   ],
   "source": [
    "try:\n",
    "    print(x)\n",
    "except NameError:\n",
    "    print(\"variable is not defined\")\n",
    "\n",
    "except:\n",
    "    print(\"Exception catch\")\n",
    "finally:\n",
    "    print(\"program is successfully\")"
   ]
  },
  {
   "cell_type": "markdown",
   "id": "fc2da99c-671d-46af-b694-84013868d1d4",
   "metadata": {},
   "source": [
    "# User defined Exception"
   ]
  },
  {
   "cell_type": "code",
   "execution_count": 59,
   "id": "e1c6830f-4979-4784-a017-ba6452bd1aa0",
   "metadata": {},
   "outputs": [
    {
     "ename": "Myexcetion",
     "evalue": "some thing wrong",
     "output_type": "error",
     "traceback": [
      "\u001b[1;31m---------------------------------------------------------------------------\u001b[0m",
      "\u001b[1;31mMyexcetion\u001b[0m                                Traceback (most recent call last)",
      "Cell \u001b[1;32mIn[59], line 6\u001b[0m\n\u001b[0;32m      4\u001b[0m c \u001b[38;5;241m=\u001b[39m \u001b[38;5;241m4\u001b[39m\n\u001b[0;32m      5\u001b[0m \u001b[38;5;28;01mif\u001b[39;00m c \u001b[38;5;241m>\u001b[39m \u001b[38;5;241m2\u001b[39m:\n\u001b[1;32m----> 6\u001b[0m     \u001b[38;5;28;01mraise\u001b[39;00m Myexcetion(\u001b[38;5;124m\"\u001b[39m\u001b[38;5;124msome thing wrong\u001b[39m\u001b[38;5;124m\"\u001b[39m) \n",
      "\u001b[1;31mMyexcetion\u001b[0m: some thing wrong"
     ]
    }
   ],
   "source": [
    "class Myexcetion(Exception):\n",
    "    pass\n",
    "\n",
    "c = 4\n",
    "if c > 2:\n",
    "    raise Myexcetion(\"some thing wrong\") \n",
    "    "
   ]
  },
  {
   "cell_type": "code",
   "execution_count": null,
   "id": "a74b4d78-c30b-48b5-8384-410e654a23e0",
   "metadata": {},
   "outputs": [],
   "source": []
  }
 ],
 "metadata": {
  "kernelspec": {
   "display_name": "Python 3 (ipykernel)",
   "language": "python",
   "name": "python3"
  },
  "language_info": {
   "codemirror_mode": {
    "name": "ipython",
    "version": 3
   },
   "file_extension": ".py",
   "mimetype": "text/x-python",
   "name": "python",
   "nbconvert_exporter": "python",
   "pygments_lexer": "ipython3",
   "version": "3.12.0"
  },
  "widgets": {
   "application/vnd.jupyter.widget-state+json": {
    "state": {},
    "version_major": 2,
    "version_minor": 0
   }
  }
 },
 "nbformat": 4,
 "nbformat_minor": 5
}
