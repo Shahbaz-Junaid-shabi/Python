{
 "cells": [
  {
   "cell_type": "markdown",
   "id": "e8ac0ef8-7c30-4762-ac5d-c3609031b74d",
   "metadata": {},
   "source": [
    "# List in python"
   ]
  },
  {
   "cell_type": "code",
   "execution_count": 2,
   "id": "263329a1-68a6-446a-b71d-f48747b176d2",
   "metadata": {},
   "outputs": [
    {
     "name": "stdout",
     "output_type": "stream",
     "text": [
      "[]\n",
      "<class 'list'>\n"
     ]
    }
   ],
   "source": [
    "# Creating a list of integers\n",
    "numbers = [1, 2, 3, 4, 5]\n",
    "\n",
    "# Creating a list of strings\n",
    "fruits = ['apple', 'banana', 'cherry']\n",
    "\n",
    "# Creating a mixed list\n",
    "mixed = [1, 'apple', 3.14, True]\n",
    "\n",
    "# Creating an empty list\n",
    "empty_list = []\n",
    "print(empty_list)\n",
    "print(type(empty_list))\n"
   ]
  },
  {
   "cell_type": "code",
   "execution_count": 8,
   "id": "064a9803-472b-46f3-8136-34b2cb125fa2",
   "metadata": {},
   "outputs": [
    {
     "name": "stdout",
     "output_type": "stream",
     "text": [
      "apple\n",
      "banana\n",
      "negative indexing  banana\n"
     ]
    }
   ],
   "source": [
    "# Accessing the list \n",
    "fruits = ['apple', 'banana', 'cherry']\n",
    "\n",
    "print(fruits[0])\n",
    "print(fruits[1])\n",
    "# also give the negative index such like this \n",
    "print('negative indexing ',fruits[-2])"
   ]
  },
  {
   "cell_type": "code",
   "execution_count": 6,
   "id": "4addbe20-693b-4fbe-80b6-39cf875fbb6e",
   "metadata": {},
   "outputs": [
    {
     "name": "stdout",
     "output_type": "stream",
     "text": [
      "['apple', 'mango', 'cherry']\n"
     ]
    }
   ],
   "source": [
    "# modify or change the value using the index the list \n",
    "fruits[1] = 'mango'\n",
    "print(fruits)"
   ]
  },
  {
   "cell_type": "markdown",
   "id": "44e28839-6cc3-42dd-95e1-d960628ee4f9",
   "metadata": {},
   "source": [
    "# list Operation"
   ]
  },
  {
   "cell_type": "code",
   "execution_count": 11,
   "id": "c1a0e555-798d-4cd2-ae7b-10bcb533c874",
   "metadata": {},
   "outputs": [
    {
     "name": "stdout",
     "output_type": "stream",
     "text": [
      "[1, 2, 3, 4, 4, 5, 6]\n"
     ]
    }
   ],
   "source": [
    "# append function\n",
    "list = [1,2,3,4,4,5]\n",
    "list.append(6)\n",
    "print(list)"
   ]
  },
  {
   "cell_type": "code",
   "execution_count": 13,
   "id": "70d92139-c3a3-488f-80a6-735f646cd40f",
   "metadata": {},
   "outputs": [
    {
     "name": "stdout",
     "output_type": "stream",
     "text": [
      "[0, 1, 2, 3, 4, 4, 5]\n"
     ]
    }
   ],
   "source": [
    "# insert (1,2)\n",
    "list = [1,2,3,4,4,5]\n",
    "list.insert(0,0) # insert the value 0 at index 0\n",
    "print(list)\n"
   ]
  },
  {
   "cell_type": "code",
   "execution_count": 16,
   "id": "51a66ab7-3619-448d-8b50-5f415b35c48b",
   "metadata": {},
   "outputs": [
    {
     "name": "stdout",
     "output_type": "stream",
     "text": [
      "[1, 2, 3, 4, 4, 5, 6, 7, 8, 9]\n"
     ]
    }
   ],
   "source": [
    "# extend using extend the list \n",
    "list = [1,2,3,4,4,5]\n",
    "list.extend([6,7,8,9])\n",
    "print(list)"
   ]
  },
  {
   "cell_type": "code",
   "execution_count": 24,
   "id": "be0fc717-2601-447c-8ce1-a69d7d42fdba",
   "metadata": {},
   "outputs": [
    {
     "name": "stdout",
     "output_type": "stream",
     "text": [
      "[1, 3, 4, 4, 5]\n"
     ]
    }
   ],
   "source": [
    "# remove the items in the list \n",
    "list = [1,2,3,4,4,5]\n",
    "list.remove(2) #it remove the item by indexing wise \n",
    "print(list)"
   ]
  },
  {
   "cell_type": "code",
   "execution_count": 23,
   "id": "9f189f18-10f7-4758-9e16-5075791ce404",
   "metadata": {},
   "outputs": [
    {
     "name": "stdout",
     "output_type": "stream",
     "text": [
      "[1, 2, 3, 4, 4]\n",
      "[1, 3, 4, 4, 5]\n"
     ]
    }
   ],
   "source": [
    "# pop remove the last element or item in list \n",
    "list = [1,2,3,4,4,5]\n",
    "list.pop()\n",
    "print(list)\n",
    "\n",
    "# also give the parameter value as argument \n",
    "list = [1,2,3,4,4,5]\n",
    "list.pop(1) #it remove the value by indexing wise \n",
    "print(list)"
   ]
  },
  {
   "cell_type": "code",
   "execution_count": 25,
   "id": "7ed18e94-f18c-4192-97f0-d94f8327f3fd",
   "metadata": {},
   "outputs": [
    {
     "name": "stdout",
     "output_type": "stream",
     "text": [
      "[]\n"
     ]
    }
   ],
   "source": [
    "list = [1,2,3,4,4,5]\n",
    "list.clear() #clear the all element in list\n",
    "print(list)"
   ]
  },
  {
   "cell_type": "markdown",
   "id": "57ec3550-9a79-4d35-8940-e29521c67b57",
   "metadata": {},
   "source": [
    "# List Slicing "
   ]
  },
  {
   "cell_type": "code",
   "execution_count": 33,
   "id": "007dac9e-b645-424c-bcbf-2d5b22ec5948",
   "metadata": {},
   "outputs": [
    {
     "name": "stdout",
     "output_type": "stream",
     "text": [
      "[1, 2, 3]\n",
      "[1, 2, 3, 4, 5]\n",
      "[1, 3, 5]\n"
     ]
    }
   ],
   "source": [
    "numbers = [1, 2, 3, 4, 5, 6]\n",
    "\n",
    "print(numbers[0:3])\n",
    "print(numbers[:5])\n",
    "print(numbers[::2]) #step the 1 element after "
   ]
  },
  {
   "cell_type": "markdown",
   "id": "24d2310a-50c3-44d4-91d0-8006a696c1ab",
   "metadata": {},
   "source": [
    "# list Comphension "
   ]
  },
  {
   "cell_type": "code",
   "execution_count": 44,
   "id": "26279a53-f280-4e2a-9094-1de3521079eb",
   "metadata": {},
   "outputs": [
    {
     "name": "stdout",
     "output_type": "stream",
     "text": [
      "[1, 4, 9, 16, 25, 36, 49, 64, 81]\n"
     ]
    }
   ],
   "source": [
    "squares = [x**2 for x in range(1,10)]\n",
    "print(squares)"
   ]
  },
  {
   "cell_type": "code",
   "execution_count": 49,
   "id": "7c2a48ef-93fe-4c79-8827-c8c873b22f41",
   "metadata": {},
   "outputs": [
    {
     "name": "stdout",
     "output_type": "stream",
     "text": [
      "[2, 4, 6, 8, 10]\n"
     ]
    }
   ],
   "source": [
    "even = [x for x in range(1,11) if x % 2 == 0]\n",
    "print(even)"
   ]
  },
  {
   "cell_type": "code",
   "execution_count": null,
   "id": "623c525f-23c5-42ef-9f2d-23b70d82dd30",
   "metadata": {},
   "outputs": [],
   "source": []
  }
 ],
 "metadata": {
  "kernelspec": {
   "display_name": "Python 3 (ipykernel)",
   "language": "python",
   "name": "python3"
  },
  "language_info": {
   "codemirror_mode": {
    "name": "ipython",
    "version": 3
   },
   "file_extension": ".py",
   "mimetype": "text/x-python",
   "name": "python",
   "nbconvert_exporter": "python",
   "pygments_lexer": "ipython3",
   "version": "3.12.0"
  },
  "widgets": {
   "application/vnd.jupyter.widget-state+json": {
    "state": {},
    "version_major": 2,
    "version_minor": 0
   }
  }
 },
 "nbformat": 4,
 "nbformat_minor": 5
}
