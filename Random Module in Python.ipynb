{
 "cells": [
  {
   "cell_type": "markdown",
   "id": "eb749d6a-781a-469e-933b-3ed11d4e72a7",
   "metadata": {},
   "source": [
    "# Random Module "
   ]
  },
  {
   "cell_type": "code",
   "execution_count": 1,
   "id": "9d2dff79-8f66-42d4-b7f5-d6d76b93997c",
   "metadata": {},
   "outputs": [
    {
     "name": "stdout",
     "output_type": "stream",
     "text": [
      "<module 'random' from 'C:\\\\Users\\\\Shahbaz Junaid\\\\Downloads\\\\Compressed\\\\python\\\\Lib\\\\random.py'>\n"
     ]
    }
   ],
   "source": [
    "import random \n",
    "print(random)"
   ]
  },
  {
   "cell_type": "code",
   "execution_count": 6,
   "id": "c24f248a-6d3b-4b48-b880-c3ce07807d2d",
   "metadata": {},
   "outputs": [
    {
     "name": "stdout",
     "output_type": "stream",
     "text": [
      "0.5854798480838801\n"
     ]
    }
   ],
   "source": [
    "import random\n",
    "print(random.random()) # # Output: Random float in range [0.0, 1.0)"
   ]
  },
  {
   "cell_type": "code",
   "execution_count": 66,
   "id": "e3591aa7-5879-4e3c-8d3e-34d5e91c25df",
   "metadata": {},
   "outputs": [
    {
     "name": "stdout",
     "output_type": "stream",
     "text": [
      "27\n"
     ]
    }
   ],
   "source": [
    "print(random.randint(1,100)) #give no between 1 to 100"
   ]
  },
  {
   "cell_type": "code",
   "execution_count": 124,
   "id": "3e4275e6-a228-4057-83a8-454f61268880",
   "metadata": {},
   "outputs": [
    {
     "name": "stdout",
     "output_type": "stream",
     "text": [
      "6\n"
     ]
    }
   ],
   "source": [
    "print(random.randrange(0,20,2))"
   ]
  },
  {
   "cell_type": "markdown",
   "id": "08a460d8-efca-42bf-9f74-9460b758bdd0",
   "metadata": {},
   "source": [
    "# Random Choice from a Sequence"
   ]
  },
  {
   "cell_type": "code",
   "execution_count": 128,
   "id": "0955a2e5-0449-436d-8ef0-2862d9d09f83",
   "metadata": {},
   "outputs": [
    {
     "name": "stdout",
     "output_type": "stream",
     "text": [
      "4\n"
     ]
    }
   ],
   "source": [
    "list1 = [1,2,3,4,5]\n",
    "print(random.choice(list1))"
   ]
  },
  {
   "cell_type": "code",
   "execution_count": 149,
   "id": "c84b82d5-59e0-410e-a2e7-36ea50ebb9a6",
   "metadata": {},
   "outputs": [
    {
     "name": "stdout",
     "output_type": "stream",
     "text": [
      "cherry\n"
     ]
    }
   ],
   "source": [
    "items = ['apple', 'banana', 'cherry','mango']\n",
    "print(random.choice(items))  # Output: Random element from the list\n"
   ]
  },
  {
   "cell_type": "code",
   "execution_count": 131,
   "id": "c4b8bebe-c603-40db-ba89-14fa360f086e",
   "metadata": {},
   "outputs": [
    {
     "name": "stdout",
     "output_type": "stream",
     "text": [
      "['banana', 'cherry']\n"
     ]
    }
   ],
   "source": [
    "print(random.sample(items, 2))  # Output: List of 2 random elements without replacement\n"
   ]
  },
  {
   "cell_type": "code",
   "execution_count": 156,
   "id": "271bec1e-b5b6-4822-8fbc-a9230594b549",
   "metadata": {},
   "outputs": [
    {
     "name": "stdout",
     "output_type": "stream",
     "text": [
      "['apple', 'banana', 'mango', 'cherry']\n"
     ]
    }
   ],
   "source": [
    "random.shuffle(items)\n",
    "print(items)  # Output: List shuffled in place\n"
   ]
  },
  {
   "cell_type": "code",
   "execution_count": 158,
   "id": "825895c3-d88b-4aac-8810-5ffa0a4d8329",
   "metadata": {},
   "outputs": [
    {
     "name": "stdout",
     "output_type": "stream",
     "text": [
      "['Heads', 'Tails', 'Heads', 'Heads', 'Heads', 'Heads', 'Heads', 'Heads', 'Tails', 'Heads']\n"
     ]
    }
   ],
   "source": [
    "flips = [random.choice(['Heads', 'Tails']) for _ in range(10)]\n",
    "print(flips)\n"
   ]
  },
  {
   "cell_type": "code",
   "execution_count": 159,
   "id": "a299effe-65b3-4826-883f-680c1ac1b19a",
   "metadata": {},
   "outputs": [
    {
     "name": "stdout",
     "output_type": "stream",
     "text": [
      "3\n"
     ]
    }
   ],
   "source": [
    "dice_roll = random.randint(1, 6)\n",
    "print(dice_roll)  # Simulates rolling a 6-sided die\n"
   ]
  },
  {
   "cell_type": "code",
   "execution_count": null,
   "id": "0cee8eed-65bc-4cdf-80b0-3fc1db1df3b4",
   "metadata": {},
   "outputs": [],
   "source": []
  },
  {
   "cell_type": "code",
   "execution_count": null,
   "id": "808215f5-a59b-4bb6-baf7-14597e31ee05",
   "metadata": {},
   "outputs": [],
   "source": []
  }
 ],
 "metadata": {
  "kernelspec": {
   "display_name": "Python 3 (ipykernel)",
   "language": "python",
   "name": "python3"
  },
  "language_info": {
   "codemirror_mode": {
    "name": "ipython",
    "version": 3
   },
   "file_extension": ".py",
   "mimetype": "text/x-python",
   "name": "python",
   "nbconvert_exporter": "python",
   "pygments_lexer": "ipython3",
   "version": "3.12.0"
  },
  "widgets": {
   "application/vnd.jupyter.widget-state+json": {
    "state": {},
    "version_major": 2,
    "version_minor": 0
   }
  }
 },
 "nbformat": 4,
 "nbformat_minor": 5
}
