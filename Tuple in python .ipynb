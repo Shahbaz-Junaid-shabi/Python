{
 "cells": [
  {
   "cell_type": "markdown",
   "id": "52252ac9-449e-45a5-8ac4-901a0ad6085c",
   "metadata": {},
   "source": [
    "# Tuple in Python .. colllection datatype"
   ]
  },
  {
   "cell_type": "code",
   "execution_count": 2,
   "id": "ce4d9cc2-e868-4ae7-999f-ad2e37c19e99",
   "metadata": {},
   "outputs": [
    {
     "name": "stdout",
     "output_type": "stream",
     "text": [
      "<class 'tuple'>\n",
      "<class 'tuple'>\n",
      "(1, 2, 'Python')\n"
     ]
    }
   ],
   "source": [
    "# Empty tuple\n",
    "empty_tuple = ()\n",
    "print(type(empty_tuple))\n",
    "# Tuple with integers\n",
    "int_tuple = (1, 2, 3)\n",
    "\n",
    "# Tuple with mixed types\n",
    "mixed_tuple = (1, \"Hello\", 3.5, True)\n",
    "\n",
    "# Tuple without parentheses (tuple packing)\n",
    "packed_tuple = 1, 2, \"Python\"\n",
    "print(type(packed_tuple))\n",
    "\n",
    "print(packed_tuple)  # Output: (1, 2, 'Python')\n"
   ]
  },
  {
   "cell_type": "markdown",
   "id": "175ef583-1781-4a28-8048-091ec34c6865",
   "metadata": {},
   "source": [
    "# Access the Tuple "
   ]
  },
  {
   "cell_type": "code",
   "execution_count": 3,
   "id": "f1bdda4a-0541-4e18-a696-c5dd16e6ba5b",
   "metadata": {},
   "outputs": [
    {
     "name": "stdout",
     "output_type": "stream",
     "text": [
      "20\n",
      "50\n"
     ]
    }
   ],
   "source": [
    "# Indexing\n",
    "tuple_example = (10, 20, 30, 40, 50)\n",
    "\n",
    "print(tuple_example[1])  # Output: 20\n",
    "print(tuple_example[-1]) # Output: 50\n"
   ]
  },
  {
   "cell_type": "markdown",
   "id": "f74a746c-7af5-43ba-96f2-082d45858e71",
   "metadata": {},
   "source": [
    "# Slicing "
   ]
  },
  {
   "cell_type": "code",
   "execution_count": 7,
   "id": "37002ebd-7cd0-431e-9411-78c70df82285",
   "metadata": {},
   "outputs": [
    {
     "name": "stdout",
     "output_type": "stream",
     "text": [
      "(20, 30)\n",
      "(2, 3, 4)\n",
      "(1, 2, 3)\n",
      "(1, 3, 5)\n"
     ]
    }
   ],
   "source": [
    "# Syntax: tuple[start:end:step]\n",
    "print(tuple_example[1:3])\n",
    "slice_tuple = (1, 2, 3, 4, 5, 6)\n",
    "\n",
    "print(slice_tuple[1:4])   # Output: (2, 3, 4)\n",
    "print(slice_tuple[:3])    # Output: (1, 2, 3)\n",
    "print(slice_tuple[::2])   # Output: (1, 3, 5)\n",
    "      "
   ]
  },
  {
   "cell_type": "markdown",
   "id": "07b519ba-27bf-4529-ac2a-a78b9478f7ff",
   "metadata": {},
   "source": [
    "# . Tuple Immutability"
   ]
  },
  {
   "cell_type": "code",
   "execution_count": 10,
   "id": "8ab43d11-18fa-474b-af13-ac5b2383e5b8",
   "metadata": {},
   "outputs": [],
   "source": [
    "# Tuples are immutable, meaning elements cannot be changed after creation.\n",
    "# You cannot perform operations like item reassignment.\n",
    "immutable_tuple = (10, 20, 30)\n",
    "# immutable_tuple[1] = 25  # Error: 'tuple' object does not support item assignment\n"
   ]
  },
  {
   "cell_type": "markdown",
   "id": "1a748d3a-f0de-406a-90e7-0b32e1f3afae",
   "metadata": {},
   "source": [
    "# Tuple Concatenation and Repetition"
   ]
  },
  {
   "cell_type": "code",
   "execution_count": 11,
   "id": "3d22fcac-a065-4abe-9ca3-830cc8ddc8db",
   "metadata": {},
   "outputs": [
    {
     "name": "stdout",
     "output_type": "stream",
     "text": [
      "(1, 2, 3, 4, 5)\n",
      "(1, 2, 3, 1, 2, 3)\n"
     ]
    }
   ],
   "source": [
    "tuple1 = (1, 2, 3)\n",
    "tuple2 = (4, 5)\n",
    "\n",
    "# Concatenation\n",
    "combined_tuple = tuple1 + tuple2\n",
    "print(combined_tuple)  # Output: (1, 2, 3, 4, 5)\n",
    "\n",
    "# Repetition\n",
    "repeated_tuple = tuple1 * 2\n",
    "print(repeated_tuple)  # Output: (1, 2, 3, 1, 2, 3)\n"
   ]
  },
  {
   "cell_type": "code",
   "execution_count": 12,
   "id": "e8df3250-1cc9-453c-934a-f7682f638785",
   "metadata": {},
   "outputs": [
    {
     "name": "stdout",
     "output_type": "stream",
     "text": [
      "2\n",
      "5\n"
     ]
    }
   ],
   "source": [
    "tuple_methods = (10, 20, 30, 20, 10, 40)\n",
    "\n",
    "print(tuple_methods.count(20))  # Output: 2\n",
    "print(tuple_methods.index(40))  # Output: 5\n"
   ]
  },
  {
   "cell_type": "markdown",
   "id": "eccd5598-d7c8-43ac-b825-46623d6cd7bb",
   "metadata": {},
   "source": [
    "# Packed and Unpacked"
   ]
  },
  {
   "cell_type": "code",
   "execution_count": 15,
   "id": "2a718bce-6433-4666-b676-5dbc172deb01",
   "metadata": {},
   "outputs": [
    {
     "name": "stdout",
     "output_type": "stream",
     "text": [
      "(1, 2, 'Python')\n",
      "<class 'tuple'>\n",
      "1 2 3\n"
     ]
    }
   ],
   "source": [
    "\n",
    "# Tuple without parentheses (tuple packing)\n",
    "packed_tuple = 1, 2, \"Python\"\n",
    "print(packed_tuple)\n",
    "print(type(packed_tuple))\n",
    "\n",
    "# Tuple Unpacking\n",
    "tuple_unpacking = (1, 2, 3)\n",
    "a, b, c = tuple_unpacking\n",
    "\n",
    "print(a, b, c)  # Output: 1 2 3\n",
    "\n",
    "\n"
   ]
  },
  {
   "cell_type": "markdown",
   "id": "420bb815-6ddd-4ee4-8efe-a2fac1b878db",
   "metadata": {},
   "source": [
    "# Nested Tuple"
   ]
  },
  {
   "cell_type": "code",
   "execution_count": 18,
   "id": "f46a77eb-e23e-47fe-9ef9-213247a25c87",
   "metadata": {},
   "outputs": [
    {
     "name": "stdout",
     "output_type": "stream",
     "text": [
      "(2, 3)\n",
      "5\n",
      "3\n"
     ]
    }
   ],
   "source": [
    "nested_tuple = (1, (2, 3), (4, 5, 6))\n",
    "\n",
    "print(nested_tuple[1])    # Output: (2, 3)\n",
    "print(nested_tuple[2][1]) # Output: 5\n",
    "print(nested_tuple[1][1])\n"
   ]
  },
  {
   "cell_type": "markdown",
   "id": "d7953cf1-c5d6-4456-8ce8-b76eca76db39",
   "metadata": {},
   "source": [
    " # Advanced Tuple Operations (Pro)\n"
   ]
  },
  {
   "cell_type": "code",
   "execution_count": 19,
   "id": "72c45c29-7797-49ed-88ec-7a900ac0ebd5",
   "metadata": {},
   "outputs": [
    {
     "name": "stdout",
     "output_type": "stream",
     "text": [
      "(('Alice', 85), ('Bob', 90), ('Charlie', 88))\n"
     ]
    }
   ],
   "source": [
    "names = (\"Alice\", \"Bob\", \"Charlie\")\n",
    "scores = (85, 90, 88)\n",
    "\n",
    "zipped = tuple(zip(names, scores))\n",
    "print(zipped)  # Output: (('Alice', 85), ('Bob', 90), ('Charlie', 88))\n"
   ]
  },
  {
   "cell_type": "markdown",
   "id": "c65dd1ed-dfc5-428f-badf-26fa0fba43f4",
   "metadata": {},
   "source": [
    "# Tuple Iteration"
   ]
  },
  {
   "cell_type": "code",
   "execution_count": 21,
   "id": "ba9d3d39-2ef1-498b-af36-012f96e28c83",
   "metadata": {},
   "outputs": [
    {
     "name": "stdout",
     "output_type": "stream",
     "text": [
      "laly\n",
      "janan\n",
      "jan\n"
     ]
    }
   ],
   "source": [
    "name = ('laly','janan','jan')\n",
    "for i in name:\n",
    "    print(i)"
   ]
  },
  {
   "cell_type": "code",
   "execution_count": null,
   "id": "a041002d-d751-4d3f-af31-89bac92939c9",
   "metadata": {},
   "outputs": [],
   "source": []
  }
 ],
 "metadata": {
  "kernelspec": {
   "display_name": "Python 3 (ipykernel)",
   "language": "python",
   "name": "python3"
  },
  "language_info": {
   "codemirror_mode": {
    "name": "ipython",
    "version": 3
   },
   "file_extension": ".py",
   "mimetype": "text/x-python",
   "name": "python",
   "nbconvert_exporter": "python",
   "pygments_lexer": "ipython3",
   "version": "3.12.0"
  },
  "widgets": {
   "application/vnd.jupyter.widget-state+json": {
    "state": {},
    "version_major": 2,
    "version_minor": 0
   }
  }
 },
 "nbformat": 4,
 "nbformat_minor": 5
}
