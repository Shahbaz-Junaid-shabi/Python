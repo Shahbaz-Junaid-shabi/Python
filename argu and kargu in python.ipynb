{
 "cells": [
  {
   "cell_type": "markdown",
   "id": "b3998e97-3a76-4311-bb06-581d23c00495",
   "metadata": {},
   "source": [
    "# argu and kargu in python "
   ]
  },
  {
   "cell_type": "code",
   "execution_count": 16,
   "id": "a676c342-5118-4b59-b4a4-d8bf4301e25f",
   "metadata": {},
   "outputs": [
    {
     "name": "stdout",
     "output_type": "stream",
     "text": [
      "7\n"
     ]
    }
   ],
   "source": [
    "def sum(a,b):\n",
    "    print(a+b)\n",
    "sum(4,3)    \n",
    "\n",
    "# if we want to give multiple arguments than use args mean variable length argument\n",
    "# return "
   ]
  },
  {
   "cell_type": "code",
   "execution_count": 15,
   "id": "2ea159ae-ee80-49cb-8b20-fbdb03d6b0bb",
   "metadata": {},
   "outputs": [
    {
     "name": "stdout",
     "output_type": "stream",
     "text": [
      "(1, 2, 3, 4, 4, 5, 5, 34, 34, 34, 3)\n",
      "129\n"
     ]
    }
   ],
   "source": [
    "def add(*args):\n",
    "    print(args)\n",
    "    sum = 0\n",
    "    for i in args :\n",
    "        sum = sum +  i\n",
    "    print(sum)\n",
    "\n",
    "add(1,2,3,4,4,5,5,34,34,34,3)\n",
    "\n",
    "# variable length argument \n",
    "# it is tuple types of datatype"
   ]
  },
  {
   "cell_type": "markdown",
   "id": "4f497ca4-a632-4da3-b795-0741159c309c",
   "metadata": {},
   "source": [
    "# Kwargs in Python mean Keyword length Arguments "
   ]
  },
  {
   "cell_type": "code",
   "execution_count": 21,
   "id": "88a78fd4-8953-4466-8230-e1bf28fed99e",
   "metadata": {
    "scrolled": true
   },
   "outputs": [
    {
     "name": "stdout",
     "output_type": "stream",
     "text": [
      "shahb\n",
      "34\n",
      "{'name': 'shabaz', 'age': 34, 'city': 'islamabad'}\n"
     ]
    }
   ],
   "source": [
    "def into(name,age):\n",
    "    print(name)\n",
    "    print(age)\n",
    "\n",
    "into(name = 'shahb',age = 34)\n",
    "\n",
    "# if you want to add multiple argument than use the kwargs mean variable length arguments\n",
    "\n",
    "\n",
    "def into(**kwargs):\n",
    "    print(kwargs)\n",
    "\n",
    "into(name = 'shabaz',age = 34,city = 'islamabad')\n",
    "# it is dictionary datatypes\n",
    "# return dictionary type "
   ]
  },
  {
   "cell_type": "code",
   "execution_count": 23,
   "id": "9fd4d271-89a7-4288-89b3-f75244d44ea2",
   "metadata": {},
   "outputs": [
    {
     "name": "stdout",
     "output_type": "stream",
     "text": [
      "{'name': 'shabaz', 'age': 34, 'city': 'islamabad', 'id': 23232}\n",
      "name shabaz\n",
      "age 34\n",
      "city islamabad\n",
      "id 23232\n"
     ]
    }
   ],
   "source": [
    "def into(**kwargs):\n",
    "    print(kwargs)\n",
    "    for keys, values in kwargs.items(): #also print one by one\n",
    "        print(keys,values)\n",
    "\n",
    "into(name = 'shabaz',age = 34,city = 'islamabad', id = 23232)\n"
   ]
  },
  {
   "cell_type": "code",
   "execution_count": null,
   "id": "0503d15f-82fe-4db6-a4ac-d8d1d1efa5c7",
   "metadata": {},
   "outputs": [],
   "source": []
  },
  {
   "cell_type": "code",
   "execution_count": null,
   "id": "73f10341-170f-418f-8493-5c4b6a2b4df3",
   "metadata": {},
   "outputs": [],
   "source": []
  }
 ],
 "metadata": {
  "kernelspec": {
   "display_name": "Python 3 (ipykernel)",
   "language": "python",
   "name": "python3"
  },
  "language_info": {
   "codemirror_mode": {
    "name": "ipython",
    "version": 3
   },
   "file_extension": ".py",
   "mimetype": "text/x-python",
   "name": "python",
   "nbconvert_exporter": "python",
   "pygments_lexer": "ipython3",
   "version": "3.12.0"
  },
  "widgets": {
   "application/vnd.jupyter.widget-state+json": {
    "state": {},
    "version_major": 2,
    "version_minor": 0
   }
  }
 },
 "nbformat": 4,
 "nbformat_minor": 5
}
