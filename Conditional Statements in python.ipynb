{
 "cells": [
  {
   "cell_type": "markdown",
   "id": "7b4d8a2b-c4a9-4c7f-b231-ce478deb4e6c",
   "metadata": {},
   "source": [
    "# Simple IF"
   ]
  },
  {
   "cell_type": "code",
   "execution_count": 9,
   "id": "b3c72f0b-9804-43e7-9dc6-8f1123d6de8f",
   "metadata": {},
   "outputs": [
    {
     "name": "stdout",
     "output_type": "stream",
     "text": [
      "equal to bro\n",
      "bye bro\n",
      "for eqaul to bro\n",
      "bye bro\n",
      "for not equal to\n"
     ]
    }
   ],
   "source": [
    "a = 'shahbaz'\n",
    "if (a == 'shahbaz'):\n",
    "  print(\"equal to bro\")\n",
    "print('bye bro')    \n",
    "print('for eqaul to bro')\n",
    "\n",
    "# if not equal than what \n",
    "a = 'shaz'\n",
    "if (a == 'shahbaz'):\n",
    "  print(\"equal bro\")\n",
    "print('bye bro')    \n",
    "print('for not equal to')\n"
   ]
  },
  {
   "cell_type": "markdown",
   "id": "bf441789-f034-4093-a067-0341a9b292f4",
   "metadata": {},
   "source": [
    "# IF - ELSE"
   ]
  },
  {
   "cell_type": "code",
   "execution_count": 12,
   "id": "e086fe08-43e0-4c06-9402-45de4113c777",
   "metadata": {},
   "outputs": [
    {
     "name": "stdout",
     "output_type": "stream",
     "text": [
      "not equal hai bro\n"
     ]
    },
    {
     "name": "stdin",
     "output_type": "stream",
     "text": [
      "Enter the Value of A: 2\n",
      "Enter the Value of B: 3\n"
     ]
    },
    {
     "name": "stdout",
     "output_type": "stream",
     "text": [
      "otherwise not equal\n"
     ]
    }
   ],
   "source": [
    "var1 = 45 \n",
    "var2 = 40\n",
    "if(var1 == var2):\n",
    "    print(\"both are equal \")\n",
    "else:\n",
    "    print('not equal hai bro')\n",
    "\n",
    "A = input(\"Enter the Value of A:\")\n",
    "B = input(\"Enter the Value of B:\")\n",
    "\n",
    "if(A == B):\n",
    "    print(\"than say A and B are equal\")\n",
    "else:\n",
    "    print(\"otherwise not equal\")\n",
    "    "
   ]
  },
  {
   "cell_type": "markdown",
   "id": "741a6629-f817-4d99-850f-d2ecaccf0fe7",
   "metadata": {},
   "source": [
    "# indentation is Compalsory"
   ]
  },
  {
   "cell_type": "raw",
   "id": "a289753c-d324-43d2-9930-0a4b257faab3",
   "metadata": {},
   "source": [
    "space "
   ]
  },
  {
   "cell_type": "markdown",
   "id": "3562a9ad-bce7-441d-91e6-5c87f0f29f1a",
   "metadata": {},
   "source": [
    "# IF-Elif-else ladder Statement "
   ]
  },
  {
   "cell_type": "code",
   "execution_count": 3,
   "id": "9571ec7a-db28-4d5a-a5ff-3336bf6ec01a",
   "metadata": {},
   "outputs": [
    {
     "name": "stdin",
     "output_type": "stream",
     "text": [
      "Enter Your Percentage and Check Your Grade 80\n"
     ]
    },
    {
     "name": "stdout",
     "output_type": "stream",
     "text": [
      "80\n",
      "A\n"
     ]
    }
   ],
   "source": [
    "percentage = int(input(\"Enter Your Percentage and Check Your Grade\"))\n",
    "print(percentage)\n",
    "if percentage >= 80:\n",
    "   print(\"A\")\n",
    "elif percentage >= 60:\n",
    "   print(\"B\")   \n",
    "elif percentage >= 50:\n",
    "   print(\"C\")   \n",
    "elif percentage >= 40:\n",
    "   print(\"D\")   \n",
    "else:\n",
    "    print(\"F\")\n",
    "\n",
    "    \n",
    "    "
   ]
  },
  {
   "cell_type": "code",
   "execution_count": null,
   "id": "b025defb-00ff-4aa4-8762-2d3522ee7c78",
   "metadata": {},
   "outputs": [],
   "source": []
  }
 ],
 "metadata": {
  "kernelspec": {
   "display_name": "Python 3 (ipykernel)",
   "language": "python",
   "name": "python3"
  },
  "language_info": {
   "codemirror_mode": {
    "name": "ipython",
    "version": 3
   },
   "file_extension": ".py",
   "mimetype": "text/x-python",
   "name": "python",
   "nbconvert_exporter": "python",
   "pygments_lexer": "ipython3",
   "version": "3.12.0"
  },
  "widgets": {
   "application/vnd.jupyter.widget-state+json": {
    "state": {},
    "version_major": 2,
    "version_minor": 0
   }
  }
 },
 "nbformat": 4,
 "nbformat_minor": 5
}
