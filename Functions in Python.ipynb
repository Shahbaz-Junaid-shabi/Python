{
 "cells": [
  {
   "cell_type": "markdown",
   "id": "995fea11-d010-4ab7-ba76-4e98dd97bfa1",
   "metadata": {},
   "source": [
    "# Function in Python"
   ]
  },
  {
   "cell_type": "code",
   "execution_count": 1,
   "id": "e40a6bce-ee78-4698-a631-f4accfcf03f7",
   "metadata": {},
   "outputs": [],
   "source": [
    "# function is block of code to perform some specific task\n",
    "# it can be reusable \n",
    "# make once use for ever\n"
   ]
  },
  {
   "cell_type": "code",
   "execution_count": 3,
   "id": "8d822f74-1fb4-4c33-92f3-6d279e923e15",
   "metadata": {},
   "outputs": [
    {
     "name": "stdout",
     "output_type": "stream",
     "text": [
      "Hello, World!\n"
     ]
    }
   ],
   "source": [
    "# Defining a simple function\n",
    "def greet():\n",
    "    print(\"Hello, World!\")\n",
    "\n",
    "# Calling the function\n",
    "greet()  # Output: Hello, World!\n"
   ]
  },
  {
   "cell_type": "code",
   "execution_count": 4,
   "id": "d425e74d-9a77-4ddf-b606-032a21c9d33e",
   "metadata": {},
   "outputs": [
    {
     "name": "stdout",
     "output_type": "stream",
     "text": [
      "hello shahbaz\n"
     ]
    }
   ],
   "source": [
    "def hello():\n",
    "    print(\"hello shahbaz\")\n",
    "\n",
    "hello()"
   ]
  },
  {
   "cell_type": "markdown",
   "id": "1f1f8514-053b-4781-836e-9f54f28d8cfb",
   "metadata": {},
   "source": [
    "# Function Parameters"
   ]
  },
  {
   "cell_type": "code",
   "execution_count": 7,
   "id": "8824805e-7885-4f17-a24d-bcd0808c755b",
   "metadata": {},
   "outputs": [
    {
     "name": "stdout",
     "output_type": "stream",
     "text": [
      "hello,shahbaz\n"
     ]
    }
   ],
   "source": [
    "def hey(name):\n",
    "    print(f\"hello,{name}\") #using the f-string \n",
    "\n",
    "hey(\"shahbaz\")\n",
    "\n"
   ]
  },
  {
   "cell_type": "markdown",
   "id": "6333f9cd-339b-49f2-b0ff-ce7071f23fef",
   "metadata": {},
   "source": [
    "# Return Statement"
   ]
  },
  {
   "cell_type": "code",
   "execution_count": 12,
   "id": "f9bed1c9-0695-471b-96bf-b1e6b953c6ad",
   "metadata": {},
   "outputs": [
    {
     "name": "stdout",
     "output_type": "stream",
     "text": [
      "324324\n"
     ]
    }
   ],
   "source": [
    "def sum(a,b):\n",
    "    return a+b\n",
    "\n",
    "sum(3,4)\n",
    "# Parameters are variables in the function definition.\n",
    "# Arguments are the actual values passed to the function when calling it.\n",
    "\n",
    "print(round(324324.4534534))\n"
   ]
  },
  {
   "cell_type": "markdown",
   "id": "4e2a1a6e-71c8-44eb-8cc1-fac8f983adbd",
   "metadata": {},
   "source": [
    "# Keywords Argument"
   ]
  },
  {
   "cell_type": "code",
   "execution_count": 14,
   "id": "226ac1e4-d002-4127-8158-4724c649c700",
   "metadata": {},
   "outputs": [
    {
     "name": "stdout",
     "output_type": "stream",
     "text": [
      "my is ali and im 23 \n"
     ]
    }
   ],
   "source": [
    "def into(name,age):\n",
    "    print(f'my is {name} and im {age} ')\n",
    "\n",
    "into(name=\"ali\",age=23)"
   ]
  },
  {
   "cell_type": "markdown",
   "id": "c1edb69e-dfd9-4607-92ee-a83bd7994b3b",
   "metadata": {},
   "source": [
    "# Default Argument"
   ]
  },
  {
   "cell_type": "code",
   "execution_count": 17,
   "id": "ab864a3d-2c8e-4de7-821e-631a92fc5606",
   "metadata": {},
   "outputs": [
    {
     "name": "stdout",
     "output_type": "stream",
     "text": [
      "KPK is status\n",
      "gb is status\n"
     ]
    }
   ],
   "source": [
    "def defualtarg(status = \"gb\"):\n",
    "    print(f'{status} is status')\n",
    "\n",
    "defualtarg(\"KPK\")\n",
    "defualtarg()"
   ]
  },
  {
   "cell_type": "markdown",
   "id": "652899a3-fc85-4e53-a195-9e71703b707d",
   "metadata": {},
   "source": [
    "# Passing a list into function"
   ]
  },
  {
   "cell_type": "code",
   "execution_count": 8,
   "id": "cf58d4a0-cbe0-4015-96e1-3ce956301774",
   "metadata": {},
   "outputs": [
    {
     "name": "stdout",
     "output_type": "stream",
     "text": [
      "python\n",
      "java\n",
      "go\n"
     ]
    }
   ],
   "source": [
    "def listdef(list1):\n",
    "    for i in list:\n",
    "        print(i)\n",
    "\n",
    "list1 = ['python','java','go']\n",
    "\n",
    "listdef(list1)"
   ]
  },
  {
   "cell_type": "code",
   "execution_count": 22,
   "id": "80683ec0-e69e-4deb-9b7e-7ace91723a05",
   "metadata": {},
   "outputs": [
    {
     "data": {
      "text/plain": [
       "9"
      ]
     },
     "execution_count": 22,
     "metadata": {},
     "output_type": "execute_result"
    }
   ],
   "source": [
    "\n",
    "def square(x):\n",
    "    return x**2\n",
    "\n",
    "square(3)"
   ]
  },
  {
   "cell_type": "markdown",
   "id": "ed6591bb-41d9-4254-a5b7-3f38649125f0",
   "metadata": {},
   "source": [
    "# Recursive Function "
   ]
  },
  {
   "cell_type": "code",
   "execution_count": 14,
   "id": "2e6c67b0-af83-442b-b5c9-18e415cff271",
   "metadata": {},
   "outputs": [
    {
     "name": "stdin",
     "output_type": "stream",
     "text": [
      "Enter Your number  5\n"
     ]
    },
    {
     "name": "stdout",
     "output_type": "stream",
     "text": [
      "The factorial of 5 is equal : 120\n"
     ]
    }
   ],
   "source": [
    "## A function call itself is called recursive  function\n",
    "def factoiral(x):\n",
    "    if x == 1 :\n",
    "        return 1\n",
    "    else:#calling function itself\n",
    "        return (x * factoiral(x-1))\n",
    "\n",
    "number =  int(input(\"Enter Your number \"))\n",
    "\n",
    "print(f'The factorial of {number} is equal :',factoiral(number))\n",
    "        "
   ]
  },
  {
   "cell_type": "code",
   "execution_count": null,
   "id": "7437a28d-1c8c-4851-bb0b-dbe38507fafe",
   "metadata": {},
   "outputs": [],
   "source": []
  }
 ],
 "metadata": {
  "kernelspec": {
   "display_name": "Python 3 (ipykernel)",
   "language": "python",
   "name": "python3"
  },
  "language_info": {
   "codemirror_mode": {
    "name": "ipython",
    "version": 3
   },
   "file_extension": ".py",
   "mimetype": "text/x-python",
   "name": "python",
   "nbconvert_exporter": "python",
   "pygments_lexer": "ipython3",
   "version": "3.12.0"
  },
  "widgets": {
   "application/vnd.jupyter.widget-state+json": {
    "state": {},
    "version_major": 2,
    "version_minor": 0
   }
  }
 },
 "nbformat": 4,
 "nbformat_minor": 5
}
