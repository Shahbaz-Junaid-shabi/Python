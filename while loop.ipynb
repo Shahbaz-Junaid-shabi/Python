{
 "cells": [
  {
   "cell_type": "markdown",
   "id": "949da4c0-0d95-448e-97aa-8f192298feba",
   "metadata": {},
   "source": [
    "# While loop"
   ]
  },
  {
   "cell_type": "code",
   "execution_count": 4,
   "id": "0ffd2285-10c5-4975-9f85-5fe8c968f2cd",
   "metadata": {},
   "outputs": [
    {
     "name": "stdin",
     "output_type": "stream",
     "text": [
      "enter the value  4\n"
     ]
    },
    {
     "name": "stdout",
     "output_type": "stream",
     "text": [
      "N values 4\n",
      "N values 7\n",
      "N values 9\n",
      "N values 10\n"
     ]
    }
   ],
   "source": [
    "sum = 0\n",
    "n = int(input(\"enter the value \"))\n",
    "while n > 0:\n",
    "    sum = sum + n\n",
    "    n = n-1\n",
    "    print('N values',sum)"
   ]
  },
  {
   "cell_type": "code",
   "execution_count": 6,
   "id": "4fe63e03-0814-41d1-aed3-e73b286eef7a",
   "metadata": {},
   "outputs": [
    {
     "name": "stdin",
     "output_type": "stream",
     "text": [
      "enter the value  4\n"
     ]
    },
    {
     "name": "stdout",
     "output_type": "stream",
     "text": [
      "N values 4\n",
      "N values 7\n",
      "N values 9\n",
      "N values 10\n",
      "loop end\n"
     ]
    }
   ],
   "source": [
    "# While loop with else part\n",
    "sum = 0\n",
    "n = int(input(\"enter the value \"))\n",
    "while n > 0:\n",
    "    sum = sum + n\n",
    "    n = n-1\n",
    "    print('N values',sum)\n",
    "else:\n",
    "    print(\"loop end\")"
   ]
  },
  {
   "cell_type": "code",
   "execution_count": null,
   "id": "b6709c5d-2968-4453-8ae6-b647f1315f06",
   "metadata": {},
   "outputs": [],
   "source": []
  }
 ],
 "metadata": {
  "kernelspec": {
   "display_name": "Python 3 (ipykernel)",
   "language": "python",
   "name": "python3"
  },
  "language_info": {
   "codemirror_mode": {
    "name": "ipython",
    "version": 3
   },
   "file_extension": ".py",
   "mimetype": "text/x-python",
   "name": "python",
   "nbconvert_exporter": "python",
   "pygments_lexer": "ipython3",
   "version": "3.12.0"
  },
  "widgets": {
   "application/vnd.jupyter.widget-state+json": {
    "state": {},
    "version_major": 2,
    "version_minor": 0
   }
  }
 },
 "nbformat": 4,
 "nbformat_minor": 5
}
