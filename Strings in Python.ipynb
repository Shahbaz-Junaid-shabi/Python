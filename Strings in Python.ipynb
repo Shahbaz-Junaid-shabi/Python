{
 "cells": [
  {
   "cell_type": "code",
   "execution_count": 5,
   "id": "c189749f-1e84-462b-9ecc-df0b39dd6f3f",
   "metadata": {},
   "outputs": [
    {
     "name": "stdout",
     "output_type": "stream",
     "text": [
      "capitalize(): Hello, world!\n"
     ]
    }
   ],
   "source": [
    "# # All String Methods in Python\n",
    "\n",
    "# # Creating a sample string for demonstration\n",
    "sample_str = 'Hello, World!'\n",
    "\n",
    "# 1. capitalize()\n",
    "print('capitalize():', sample_str.capitalize())\n",
    "\n",
    "# # 2. casefold()\n",
    "# print('casefold():', sample_str.casefold())\n",
    "\n",
    "# # 3. center()\n",
    "# print('center(20):', sample_str.center(20))\n",
    "\n",
    "# # 4. count()\n",
    "# print('count(\"l\"): ', sample_str.count('l'))\n",
    "\n",
    "# # 5. encode()\n",
    "# print('encode():', sample_str.encode())\n",
    "\n",
    "# # 6. endswith()\n",
    "# print('endswith(\"!\"): ', sample_str.endswith('!'))\n",
    "\n",
    "# 7. expandtabs()\n",
    "# str_with_tabs = 'Hello\\tWorld!'\n",
    "# print('expandtabs(4):', str_with_tabs.expandtabs(4))\n",
    "\n",
    "# # 8. find()\n",
    "# print('find(\"World\"): ', sample_str.find('World'))\n",
    "\n",
    "# # 9. format()\n",
    "# formatted_str = 'I am {} years old'.format(25)\n",
    "# print('format():', formatted_str)\n",
    "\n",
    "# # 10. index()\n",
    "# print('index(\"World\"): ', sample_str.index('World'))\n",
    "\n",
    "# # 11. isalnum()\n",
    "# alnum_str = 'Hello123'\n",
    "# print('isalnum():', alnum_str.isalnum())\n",
    "\n",
    "# # 12. isalpha()\n",
    "# alpha_str = 'Hello'\n",
    "# print('isalpha():', alpha_str.isalpha())\n",
    "\n",
    "# # 13. isdecimal()\n",
    "# decimal_str = '12345'\n",
    "# print('isdecimal():', decimal_str.isdecimal())\n",
    "\n",
    "# # 14. isdigit()\n",
    "# digit_str = '12345'\n",
    "# print('isdigit():', digit_str.isdigit())\n",
    "\n",
    "# # 15. isidentifier()\n",
    "# identifier_str = 'hello_world'\n",
    "# print('isidentifier():', identifier_str.isidentifier())\n",
    "\n",
    "# # 16. islower()\n",
    "# lower_str = 'hello'\n",
    "# print('islower():', lower_str.islower())\n",
    "\n",
    "# # 17. isnumeric()\n",
    "# numeric_str = '12345'\n",
    "# print('isnumeric():', numeric_str.isnumeric())\n",
    "\n",
    "# # 18. isprintable()\n",
    "# printable_str = 'Hello, World!'\n",
    "# print('isprintable():', printable_str.isprintable())\n",
    "\n",
    "# # 19. isspace()\n",
    "# space_str = '   '\n",
    "# print('isspace():', space_str.isspace())\n",
    "\n",
    "# # 20. istitle()\n",
    "# title_str = 'Hello World'\n",
    "# print('istitle():', title_str.istitle())\n",
    "\n",
    "# # 21. isupper()\n",
    "# upper_str = 'HELLO'\n",
    "# print('isupper():', upper_str.isupper())\n",
    "\n",
    "# # 22. join()\n",
    "# join_list = ['Python', 'is', 'fun']\n",
    "# print('join(\" \"): ', ' '.join(join_list))\n",
    "\n",
    "# # 23. ljust()\n",
    "# print('ljust(20):', sample_str.ljust(20))\n",
    "\n",
    "# # 24. lower()\n",
    "# print('lower():', sample_str.lower())\n",
    "\n",
    "# # 25. lstrip()\n",
    "# strip_str = '   Hello   '\n",
    "# print('lstrip():', strip_str.lstrip())\n",
    "\n",
    "# # 26. partition()\n",
    "# print('partition(\"World\"): ', sample_str.partition('World'))\n",
    "\n",
    "# # 27. replace()\n",
    "# print('replace(\"World\", \"Everyone\"): ', sample_str.replace('World', 'Everyone'))\n",
    "\n",
    "# # 28. rfind()\n",
    "# print('rfind(\"l\"): ', sample_str.rfind('l'))\n",
    "\n",
    "# # 29. rindex()\n",
    "# print('rindex(\"l\"): ', sample_str.rindex('l'))\n",
    "\n",
    "# # 30. rjust()\n",
    "# print('rjust(20):', sample_str.rjust(20))\n",
    "\n",
    "# # 31. rpartition()\n",
    "# print('rpartition(\"World\"): ', sample_str.rpartition('World'))\n",
    "\n",
    "# # 32. rsplit()\n",
    "# print('rsplit():', sample_str.rsplit())\n",
    "\n",
    "# # 33. rstrip()\n",
    "# print('rstrip():', strip_str.rstrip())\n",
    "\n",
    "# # 34. split()\n",
    "# print('split():', sample_str.split())\n",
    "\n",
    "# # 35. splitlines()\n",
    "# multiline_str = 'Hello\\nWorld!'\n",
    "# print('splitlines():', multiline_str.splitlines())\n",
    "\n",
    "# # 36. startswith()\n",
    "# print('startswith(\"Hello\"): ', sample_str.startswith('Hello'))\n",
    "\n",
    "# # 37. strip()\n",
    "# print('strip():', strip_str.strip())\n",
    "\n",
    "# # 38. swapcase()\n",
    "# print('swapcase():', sample_str.swapcase())\n",
    "\n",
    "# # 39. title()\n",
    "# print('title():', sample_str.title())\n",
    "\n",
    "# # 40. upper()\n",
    "# print('upper():', sample_str.upper())\n",
    "\n",
    "# # 41. zfill()\n",
    "# num_str = '42'\n",
    "# print('zfill(5):', num_str.zfill(5))\n"
   ]
  },
  {
   "cell_type": "code",
   "execution_count": 1,
   "id": "ecbe371a-e7ea-43fa-9a61-2a319ca4f464",
   "metadata": {},
   "outputs": [
    {
     "name": "stdout",
     "output_type": "stream",
     "text": [
      "capitalize(): Hello, world!\n"
     ]
    }
   ],
   "source": [
    "\n",
    "# Creating a sample string for demonstration\n",
    "sample_str = 'Hello, World!'\n",
    "# 1. capitalize()\n",
    "print('capitalize():', sample_str.capitalize())"
   ]
  },
  {
   "cell_type": "code",
   "execution_count": 3,
   "id": "6575320d-7d9e-4f92-af5d-e762f4aa7b98",
   "metadata": {},
   "outputs": [
    {
     "name": "stdout",
     "output_type": "stream",
     "text": [
      "casefold() convert into lower case : hello, world!\n"
     ]
    }
   ],
   "source": [
    "# 2. casefold()\n",
    "print('casefold() convert into lower case :', sample_str.casefold())"
   ]
  },
  {
   "cell_type": "code",
   "execution_count": 7,
   "id": "fcba6763-bc25-4554-b7e8-bda1c98a50f5",
   "metadata": {},
   "outputs": [
    {
     "name": "stdout",
     "output_type": "stream",
     "text": [
      "expandtabs(4): Hello     World!\n"
     ]
    }
   ],
   "source": [
    "# 7. expandtabs()\n",
    "str_with_tabs = 'Hello\\tWorld!'\n",
    "print('expandtabs(4):', str_with_tabs.expandtabs(10))"
   ]
  },
  {
   "cell_type": "code",
   "execution_count": 10,
   "id": "d3f78347-5cca-4b3d-9c30-a63ea8a475f6",
   "metadata": {},
   "outputs": [
    {
     "name": "stdout",
     "output_type": "stream",
     "text": [
      "format(): I am 25 years old\n"
     ]
    }
   ],
   "source": [
    "\n",
    "# 9. format()\n",
    "formatted_str = 'I am {} years old'.format(25)\n",
    "print('format():', formatted_str)"
   ]
  },
  {
   "cell_type": "code",
   "execution_count": 12,
   "id": "70321a6b-ed5f-4b2c-8f63-39e121f9b34f",
   "metadata": {},
   "outputs": [
    {
     "name": "stdout",
     "output_type": "stream",
     "text": [
      "index(\"World\"):  7\n",
      "isalnum(): True\n",
      "isalpha(): True\n"
     ]
    }
   ],
   "source": [
    "# 10. index()\n",
    "print('index(\"World\"): ', sample_str.index('World'))\n",
    "\n",
    "# 11. isalnum()\n",
    "alnum_str = 'Hello123'\n",
    "print('isalnum():', alnum_str.isalnum())\n",
    "\n",
    "# 12. isalpha()\n",
    "alpha_str = 'Hello'\n",
    "print('isalpha():', alpha_str.isalpha())"
   ]
  },
  {
   "cell_type": "code",
   "execution_count": 14,
   "id": "09831ccc-ba2a-4b21-960b-2c8a56cd8c46",
   "metadata": {},
   "outputs": [
    {
     "name": "stdout",
     "output_type": "stream",
     "text": [
      "isdecimal(): True\n",
      "isdigit(): True\n",
      "isidentifier(): True\n"
     ]
    }
   ],
   "source": [
    "# 13. isdecimal()\n",
    "decimal_str = '12345'\n",
    "print('isdecimal():', decimal_str.isdecimal())\n",
    "\n",
    "# 14. isdigit()\n",
    "digit_str = '12345'\n",
    "print('isdigit():', digit_str.isdigit())\n",
    "\n",
    "# 15. isidentifier()\n",
    "identifier_str = 'hello_world'\n",
    "print('isidentifier():', identifier_str.isidentifier())\n"
   ]
  },
  {
   "cell_type": "code",
   "execution_count": 22,
   "id": "180685db-9c1d-4731-85e1-6d4e6cf0fe34",
   "metadata": {},
   "outputs": [
    {
     "name": "stdout",
     "output_type": "stream",
     "text": [
      "join(\" \"):  Python is fun\n",
      "rjust(20):                                      Hello, World!\n",
      "lower(): hello, world!\n",
      "lstrip(): Hello          \n"
     ]
    }
   ],
   "source": [
    "# 22. join()\n",
    "join_list = ['Python', 'is', 'fun']\n",
    "print('join(\" \"): ', ' '.join(join_list))\n",
    "\n",
    "# 23. ljust()\n",
    "print('rjust(20):', sample_str.rjust(50))\n",
    "\n",
    "# 24. lower()\n",
    "print('lower():', sample_str.lower())\n",
    "\n",
    "# 25. lstrip()\n",
    "strip_str = '          Hello          '\n",
    "print('lstrip():', strip_str.lstrip())"
   ]
  },
  {
   "cell_type": "code",
   "execution_count": 26,
   "id": "72b20350-a466-47ab-ba67-fb3e1e78045b",
   "metadata": {},
   "outputs": [
    {
     "name": "stdout",
     "output_type": "stream",
     "text": [
      "partition(\"World\"):  ('shahbaz junaid data analyst', '', '')\n",
      "replace(\"World\", \"Everyone\"):  Hello, Everyone!\n",
      "rfind(\"l\"):  10\n",
      "rindex(\"l\"):  10\n",
      "rjust(20):        Hello, World!\n"
     ]
    }
   ],
   "source": [
    "# 26. partition()\n",
    "name = 'shahbaz junaid data analyst'\n",
    "print('partition(\"World\"): ', name.partition('World'))\n",
    "\n",
    "# 27. replace()\n",
    "print('replace(\"World\", \"Everyone\"): ', sample_str.replace('World', 'Everyone'))\n",
    "\n",
    "# 28. rfind()\n",
    "print('rfind(\"l\"): ', sample_str.rfind('l'))\n",
    "\n",
    "# 29. rindex()\n",
    "print('rindex(\"l\"): ', sample_str.rindex('l'))\n",
    "\n",
    "# 30. rjust()\n",
    "print('rjust(20):', sample_str.rjust(20))"
   ]
  },
  {
   "cell_type": "code",
   "execution_count": 27,
   "id": "9e85f283-ffe7-4044-8b19-774ff67f5c62",
   "metadata": {},
   "outputs": [
    {
     "name": "stdout",
     "output_type": "stream",
     "text": [
      "('shahbaz ', 'junaid', ' data analyst')\n"
     ]
    }
   ],
   "source": [
    "name = 'shahbaz junaid data analyst'\n",
    "print(name.partition('junaid'))\n"
   ]
  },
  {
   "cell_type": "code",
   "execution_count": 33,
   "id": "78438954-75ca-4c3b-80c2-02458b1b52b6",
   "metadata": {},
   "outputs": [
    {
     "name": "stdout",
     "output_type": "stream",
     "text": [
      "rpartition(\"World\"):  ('Hello, ', 'World', '!')\n",
      "rsplit(): ['s', 'j']\n",
      "rstrip(): shaybi bhai\n",
      "split(): ['Hello,', 'World!']\n",
      "splitlines(): ['Hello', 'World!']\n"
     ]
    }
   ],
   "source": [
    "# 31. rpartition()\n",
    "print('rpartition(\"World\"): ', sample_str.rpartition('World'))\n",
    "\n",
    "# 32. rsplit()\n",
    "name = 's j'\n",
    "print('rsplit():', name.rsplit())\n",
    "\n",
    "# 33. rstrip()\n",
    "name = 'shaybi bhai'\n",
    "print('rstrip():', name.rstrip())\n",
    "\n",
    "# 34. split()\n",
    "print('split():', sample_str.split())\n",
    "\n",
    "# 35. splitlines()\n",
    "multiline_str = 'Hello\\nWorld!'\n",
    "print('splitlines():', multiline_str.splitlines())"
   ]
  },
  {
   "cell_type": "code",
   "execution_count": 39,
   "id": "929faf1a-c895-419b-b920-91802c11fa9f",
   "metadata": {},
   "outputs": [
    {
     "name": "stdout",
     "output_type": "stream",
     "text": [
      "startswith(\"Hello\"):  True\n",
      "strip(): Hello\n",
      "swapcase(): BHAI JNAID\n",
      "title(): Hello, World!\n",
      "upper(): HELLO, WORLD!\n",
      "zfill(5): 0000000042\n"
     ]
    }
   ],
   "source": [
    "# 36. startswith()\n",
    "print('startswith(\"Hello\"): ', sample_str.startswith('Hello'))\n",
    "\n",
    "# 37. strip()\n",
    "print('strip():', strip_str.strip())\n",
    "\n",
    "# 38. swapcase()\n",
    "swape = 'bhai jnaid'\n",
    "print('swapcase():', swape.swapcase())\n",
    "\n",
    "# 39. title()\n",
    "print('title():', sample_str.title())\n",
    "\n",
    "# 40. upper()\n",
    "print('upper():', sample_str.upper())\n",
    "\n",
    "# 41. zfill()\n",
    "num_str = '42'\n",
    "print('zfill(5):', num_str.zfill(10))\n"
   ]
  },
  {
   "cell_type": "code",
   "execution_count": null,
   "id": "87f7efe2-1296-4320-978f-3bb7bffbf17e",
   "metadata": {},
   "outputs": [],
   "source": []
  }
 ],
 "metadata": {
  "kernelspec": {
   "display_name": "Python 3 (ipykernel)",
   "language": "python",
   "name": "python3"
  },
  "language_info": {
   "codemirror_mode": {
    "name": "ipython",
    "version": 3
   },
   "file_extension": ".py",
   "mimetype": "text/x-python",
   "name": "python",
   "nbconvert_exporter": "python",
   "pygments_lexer": "ipython3",
   "version": "3.12.0"
  },
  "widgets": {
   "application/vnd.jupyter.widget-state+json": {
    "state": {},
    "version_major": 2,
    "version_minor": 0
   }
  }
 },
 "nbformat": 4,
 "nbformat_minor": 5
}
