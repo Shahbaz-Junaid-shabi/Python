{
 "cells": [
  {
   "cell_type": "markdown",
   "id": "c3df7e92-b97d-4140-943a-14961e063ade",
   "metadata": {},
   "source": [
    "# Lambda function in python \n"
   ]
  },
  {
   "cell_type": "code",
   "execution_count": 2,
   "id": "e2954e8f-795c-4bb9-a1d2-594b9844a5a2",
   "metadata": {},
   "outputs": [
    {
     "data": {
      "text/plain": [
       "5"
      ]
     },
     "execution_count": 2,
     "metadata": {},
     "output_type": "execute_result"
    }
   ],
   "source": [
    "# Anonymous function\n",
    "\n",
    "# lambda arguments: expression\n",
    "\n",
    "\n",
    "add = lambda x,y : x+y\n",
    "add(2,3)"
   ]
  },
  {
   "cell_type": "code",
   "execution_count": 3,
   "id": "6da0a6fd-22fd-44f0-a0f0-5d4049b46cae",
   "metadata": {},
   "outputs": [
    {
     "name": "stdout",
     "output_type": "stream",
     "text": [
      "15\n",
      "20\n"
     ]
    }
   ],
   "source": [
    "# A lambda function to add 10 to the input number\n",
    "add_10 = lambda x: x + 10\n",
    "print(add_10(5))  # Output: 15\n",
    "\n",
    "# A lambda function to multiply two numbers\n",
    "multiply = lambda x, y: x * y\n",
    "print(multiply(4, 5))  # Output: 20\n"
   ]
  },
  {
   "cell_type": "code",
   "execution_count": 4,
   "id": "3c21f9ae-4c29-4685-9c25-7778f5cc454e",
   "metadata": {},
   "outputs": [
    {
     "name": "stdout",
     "output_type": "stream",
     "text": [
      "[{'name': 'Bob', 'age': 22}, {'name': 'Alice', 'age': 25}]\n"
     ]
    }
   ],
   "source": [
    "data = [{'name': 'Alice', 'age': 25}, {'name': 'Bob', 'age': 22}]\n",
    "data.sort(key=lambda x: x['age'])\n",
    "print(data)  # Output: [{'name': 'Bob', 'age': 22}, {'name': 'Alice', 'age': 25}]\n"
   ]
  },
  {
   "cell_type": "code",
   "execution_count": null,
   "id": "b7f12518-14f0-4498-930d-8ce077b8b32a",
   "metadata": {},
   "outputs": [],
   "source": []
  }
 ],
 "metadata": {
  "kernelspec": {
   "display_name": "Python 3 (ipykernel)",
   "language": "python",
   "name": "python3"
  },
  "language_info": {
   "codemirror_mode": {
    "name": "ipython",
    "version": 3
   },
   "file_extension": ".py",
   "mimetype": "text/x-python",
   "name": "python",
   "nbconvert_exporter": "python",
   "pygments_lexer": "ipython3",
   "version": "3.12.0"
  },
  "widgets": {
   "application/vnd.jupyter.widget-state+json": {
    "state": {},
    "version_major": 2,
    "version_minor": 0
   }
  }
 },
 "nbformat": 4,
 "nbformat_minor": 5
}
