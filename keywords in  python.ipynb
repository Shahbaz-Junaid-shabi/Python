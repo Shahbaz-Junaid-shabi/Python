{
 "cells": [
  {
   "cell_type": "code",
   "execution_count": 5,
   "id": "a7c2c70a-cb2a-4e3b-ac58-1909cff611db",
   "metadata": {},
   "outputs": [
    {
     "name": "stdout",
     "output_type": "stream",
     "text": [
      "2025-03-13 20:03:25.747519\n"
     ]
    }
   ],
   "source": [
    "import datetime\n",
    "\n",
    "x = datetime.datetime.now()\n",
    "print(x)"
   ]
  },
  {
   "cell_type": "code",
   "execution_count": 7,
   "id": "69b22fce-6542-4924-b404-dfbd06e61f05",
   "metadata": {},
   "outputs": [],
   "source": [
    "# keywords in python are revervsed words"
   ]
  },
  {
   "cell_type": "code",
   "execution_count": 9,
   "id": "01ef6abd-23ae-4bef-af61-31f85eba0808",
   "metadata": {},
   "outputs": [
    {
     "name": "stdout",
     "output_type": "stream",
     "text": [
      "['False', 'None', 'True', 'and', 'as', 'assert', 'async', 'await', 'break', 'class', 'continue', 'def', 'del', 'elif', 'else', 'except', 'finally', 'for', 'from', 'global', 'if', 'import', 'in', 'is', 'lambda', 'nonlocal', 'not', 'or', 'pass', 'raise', 'return', 'try', 'while', 'with', 'yield']\n"
     ]
    }
   ],
   "source": [
    "import keyword\n",
    "print(keyword.kwlist)"
   ]
  },
  {
   "cell_type": "code",
   "execution_count": 17,
   "id": "6899d2f2-f21f-4f20-badc-c04a25185ef2",
   "metadata": {},
   "outputs": [],
   "source": [
    "# keyword can't not use as a varible name , function name and other identifers\n",
    "# in program"
   ]
  },
  {
   "cell_type": "code",
   "execution_count": null,
   "id": "4a03b49d-0a8b-4c13-a5e4-1771626e00b2",
   "metadata": {},
   "outputs": [],
   "source": []
  }
 ],
 "metadata": {
  "kernelspec": {
   "display_name": "Python [conda env:base] *",
   "language": "python",
   "name": "conda-base-py"
  },
  "language_info": {
   "codemirror_mode": {
    "name": "ipython",
    "version": 3
   },
   "file_extension": ".py",
   "mimetype": "text/x-python",
   "name": "python",
   "nbconvert_exporter": "python",
   "pygments_lexer": "ipython3",
   "version": "3.12.7"
  }
 },
 "nbformat": 4,
 "nbformat_minor": 5
}
