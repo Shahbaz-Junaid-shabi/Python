{
 "cells": [
  {
   "cell_type": "markdown",
   "id": "3e52f920-aafb-42c9-a60c-5607ba9e8a02",
   "metadata": {},
   "source": [
    "# Math Module in Python "
   ]
  },
  {
   "cell_type": "code",
   "execution_count": 3,
   "id": "e78ea970-f063-417e-bf9e-a0566cfce43c",
   "metadata": {},
   "outputs": [
    {
     "name": "stdout",
     "output_type": "stream",
     "text": [
      "Standard Deviation: 14.142135623730951\n",
      "mean 30.0\n",
      "Variance 200.0\n"
     ]
    }
   ],
   "source": [
    "import math\n",
    "# Calculate the standard deviation of a sample\n",
    "sample = [10, 20, 30, 40, 50]\n",
    "mean = sum(sample) / len(sample)\n",
    "variance = sum((x - mean) ** 2 for x in sample) / len(sample)\n",
    "std_dev = math.sqrt(variance)\n",
    "print(\"Standard Deviation:\", std_dev)\n",
    "print(\"mean\",mean)\n",
    "print(\"Variance\",variance)\n",
    "\n"
   ]
  },
  {
   "cell_type": "code",
   "execution_count": 8,
   "id": "1f7bebe0-0175-4e90-a06f-025814da82a8",
   "metadata": {},
   "outputs": [
    {
     "name": "stdout",
     "output_type": "stream",
     "text": [
      "120\n"
     ]
    }
   ],
   "source": [
    "import math\n",
    "print(math.factorial(5))"
   ]
  },
  {
   "cell_type": "code",
   "execution_count": 9,
   "id": "81e12ff7-9bba-4964-89c6-24dc89148ab1",
   "metadata": {},
   "outputs": [
    {
     "name": "stdout",
     "output_type": "stream",
     "text": [
      "Log Transformed Data: [4.605170185988092, 6.907755278982137, 9.210340371976184, 10.819778284410283, 11.512925464970229]\n"
     ]
    }
   ],
   "source": [
    "import math\n",
    "\n",
    "# Sample data (skewed data)\n",
    "data = [100, 1000, 10000, 50000, 100000]\n",
    "\n",
    "# Apply log transformation\n",
    "log_data = [math.log(x) for x in data]\n",
    "\n",
    "print(\"Log Transformed Data:\", log_data)\n"
   ]
  },
  {
   "cell_type": "code",
   "execution_count": 10,
   "id": "aaaccaa3-ed33-4c62-b846-62a9b4bd606c",
   "metadata": {},
   "outputs": [
    {
     "name": "stdout",
     "output_type": "stream",
     "text": [
      "3\n"
     ]
    }
   ],
   "source": [
    "print(math.floor(3.43))"
   ]
  },
  {
   "cell_type": "code",
   "execution_count": 11,
   "id": "2ad2212e-848b-4a1e-98df-0235930b5cfd",
   "metadata": {},
   "outputs": [
    {
     "name": "stdout",
     "output_type": "stream",
     "text": [
      "35\n"
     ]
    }
   ],
   "source": [
    "print(math.ceil(34.4))"
   ]
  },
  {
   "cell_type": "code",
   "execution_count": 12,
   "id": "3f9aa8bc-62da-46d6-a12b-c576307e6e0b",
   "metadata": {},
   "outputs": [
    {
     "name": "stdout",
     "output_type": "stream",
     "text": [
      "7.681145747868608\n"
     ]
    }
   ],
   "source": [
    "print(math.sqrt(59))"
   ]
  },
  {
   "cell_type": "code",
   "execution_count": null,
   "id": "5f6407b0-8af0-4571-8e5f-f687a9eb4ea4",
   "metadata": {},
   "outputs": [],
   "source": []
  }
 ],
 "metadata": {
  "kernelspec": {
   "display_name": "Python 3 (ipykernel)",
   "language": "python",
   "name": "python3"
  },
  "language_info": {
   "codemirror_mode": {
    "name": "ipython",
    "version": 3
   },
   "file_extension": ".py",
   "mimetype": "text/x-python",
   "name": "python",
   "nbconvert_exporter": "python",
   "pygments_lexer": "ipython3",
   "version": "3.12.0"
  },
  "widgets": {
   "application/vnd.jupyter.widget-state+json": {
    "state": {},
    "version_major": 2,
    "version_minor": 0
   }
  }
 },
 "nbformat": 4,
 "nbformat_minor": 5
}
