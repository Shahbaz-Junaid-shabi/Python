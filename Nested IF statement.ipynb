{
 "cells": [
  {
   "cell_type": "markdown",
   "id": "eb85124d-a515-4bc8-b464-d2c663522a50",
   "metadata": {},
   "source": [
    "# Nested if statement \n"
   ]
  },
  {
   "cell_type": "code",
   "execution_count": 16,
   "id": "87080b1a-08e2-4ee1-abd5-65d051589b7b",
   "metadata": {},
   "outputs": [
    {
     "name": "stdin",
     "output_type": "stream",
     "text": [
      "Enter Your Age  34\n",
      "Enter Your Weight  34\n"
     ]
    },
    {
     "name": "stdout",
     "output_type": "stream",
     "text": [
      "Under weight\n"
     ]
    }
   ],
   "source": [
    "# blood denote application \n",
    "\n",
    "age = int(input(\"Enter Your Age \"))\n",
    "\n",
    "if age >= 18 :\n",
    "      weight = int(input(\"Enter Your Weight \"))\n",
    "      if weight >= 50:\n",
    "        print(\"Your are eligble for blood denote\")\n",
    "      else:\n",
    "        print(\"Under weight\")\n",
    "else:\n",
    "    print(\"Under Age\")"
   ]
  },
  {
   "cell_type": "code",
   "execution_count": 3,
   "id": "2dd97486-f35d-4c08-8912-4a1d2bc531e7",
   "metadata": {},
   "outputs": [
    {
     "name": "stdin",
     "output_type": "stream",
     "text": [
      "Enter Your Age:  56\n",
      "Enter Your Weight (in kg):  87\n"
     ]
    },
    {
     "name": "stdout",
     "output_type": "stream",
     "text": [
      "You are eligible to donate blood.\n"
     ]
    }
   ],
   "source": [
    "# Blood Donation Eligibility Check\n",
    "age = int(input(\"Enter Your Age: \"))\n",
    "weight = int(input(\"Enter Your Weight (in kg): \"))\n",
    "\n",
    "# Check if the age is 18 or above\n",
    "if age >= 18:\n",
    "    # If age is valid, check if the weight is 50 or more\n",
    "    if weight >= 50:\n",
    "        print(\"You are eligible to donate blood.\")\n",
    "    else:\n",
    "        print(\"You are underweight to donate blood.\")\n",
    "else:\n",
    "    print(\"You are under the required age to donate blood.\")\n"
   ]
  },
  {
   "cell_type": "code",
   "execution_count": 4,
   "id": "64ca7add-37b9-4340-bc66-6abb73439de0",
   "metadata": {},
   "outputs": [
    {
     "name": "stdin",
     "output_type": "stream",
     "text": [
      "Enter meal type (breakfast/lunch/dinner):  dinner\n",
      "Are you vegetarian? (yes/no):  yes\n"
     ]
    },
    {
     "name": "stdout",
     "output_type": "stream",
     "text": [
      "Recommended: Pasta with tomato sauce\n"
     ]
    }
   ],
   "source": [
    "# Restaurant Menu Recommendation based on meal type and diet\n",
    "\n",
    "meal_type = input(\"Enter meal type (breakfast/lunch/dinner): \").lower()\n",
    "is_vegetarian = input(\"Are you vegetarian? (yes/no): \").lower() == \"yes\"\n",
    "\n",
    "# Check meal type\n",
    "if meal_type == \"breakfast\":\n",
    "    # Nested if for dietary preference\n",
    "    if is_vegetarian:\n",
    "        print(\"Recommended: Pancakes with fresh fruits\")\n",
    "    else:\n",
    "        print(\"Recommended: Bacon and eggs\")\n",
    "elif meal_type == \"lunch\":\n",
    "    if is_vegetarian:\n",
    "        print(\"Recommended: Grilled vegetable sandwich\")\n",
    "    else:\n",
    "        print(\"Recommended: Chicken sandwich\")\n",
    "elif meal_type == \"dinner\":\n",
    "    if is_vegetarian:\n",
    "        print(\"Recommended: Pasta with tomato sauce\")\n",
    "    else:\n",
    "        print(\"Recommended: Steak with mashed potatoes\")\n",
    "else:\n",
    "    print(\"Invalid meal type entered.\")\n"
   ]
  },
  {
   "cell_type": "code",
   "execution_count": 6,
   "id": "5ff93ada-af79-4f28-995d-92fef037b9e0",
   "metadata": {},
   "outputs": [
    {
     "name": "stdin",
     "output_type": "stream",
     "text": [
      "Enter Your Age:  23\n",
      "Enter Your Weight (in kg):  45\n",
      "Enter Your Gender (M/F):  f\n"
     ]
    },
    {
     "name": "stdout",
     "output_type": "stream",
     "text": [
      "You are eligible to donate blood.\n"
     ]
    }
   ],
   "source": [
    "# Blood Donation Eligibility Check with Enhanced Features\n",
    "\n",
    "# Function to check eligibility\n",
    "def check_blood_donation_eligibility():\n",
    "    try:\n",
    "        age = int(input(\"Enter Your Age: \"))\n",
    "        weight = int(input(\"Enter Your Weight (in kg): \"))\n",
    "        gender = input(\"Enter Your Gender (M/F): \").strip().upper()\n",
    "\n",
    "        # Input validation\n",
    "        if age <= 0 or weight <= 0:\n",
    "            print(\"Age and weight must be positive numbers.\")\n",
    "            return\n",
    "\n",
    "        # Maximum age check\n",
    "        if age > 60:\n",
    "            print(\"You are above the age limit for blood donation.\")\n",
    "            return\n",
    "\n",
    "        # Check for minimum age\n",
    "        if age < 18:\n",
    "            if age == 17:\n",
    "                print(\"You will soon be eligible to donate blood. Just one more year!\")\n",
    "            else:\n",
    "                print(\"You are under the required age to donate blood.\")\n",
    "            return\n",
    "\n",
    "        # Gender-based weight requirement\n",
    "        if gender == 'M':\n",
    "            min_weight = 50  # Minimum weight for men\n",
    "        elif gender == 'F':\n",
    "            min_weight = 45  # Minimum weight for women\n",
    "        else:\n",
    "            print(\"Invalid gender input. Please enter 'M' for Male or 'F' for Female.\")\n",
    "            return\n",
    "\n",
    "        # Weight check\n",
    "        if weight >= min_weight:\n",
    "            print(\"You are eligible to donate blood.\")\n",
    "        else:\n",
    "            if min_weight - 2 <= weight < min_weight:\n",
    "                print(f\"You are almost eligible. You need to gain {min_weight - weight} more kg.\")\n",
    "            else:\n",
    "                print(f\"You are under the weight requirement for your gender. Minimum weight: {min_weight} kg.\")\n",
    "\n",
    "    except ValueError:\n",
    "        print(\"Invalid input. Please enter numeric values for age and weight.\")\n",
    "\n",
    "# Run the function\n",
    "check_blood_donation_eligibility()\n",
    "\n"
   ]
  },
  {
   "cell_type": "code",
   "execution_count": null,
   "id": "240dde14-3cca-40f6-aff4-cacc1e619bae",
   "metadata": {},
   "outputs": [],
   "source": []
  },
  {
   "cell_type": "code",
   "execution_count": null,
   "id": "1cba0fce-4701-4f57-bddf-7794910aa253",
   "metadata": {},
   "outputs": [],
   "source": []
  }
 ],
 "metadata": {
  "kernelspec": {
   "display_name": "Python 3 (ipykernel)",
   "language": "python",
   "name": "python3"
  },
  "language_info": {
   "codemirror_mode": {
    "name": "ipython",
    "version": 3
   },
   "file_extension": ".py",
   "mimetype": "text/x-python",
   "name": "python",
   "nbconvert_exporter": "python",
   "pygments_lexer": "ipython3",
   "version": "3.12.0"
  },
  "widgets": {
   "application/vnd.jupyter.widget-state+json": {
    "state": {},
    "version_major": 2,
    "version_minor": 0
   }
  }
 },
 "nbformat": 4,
 "nbformat_minor": 5
}
