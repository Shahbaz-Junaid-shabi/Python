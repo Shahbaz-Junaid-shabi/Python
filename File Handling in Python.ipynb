{
 "cells": [
  {
   "cell_type": "markdown",
   "id": "2da4ff38-5ad7-426b-abbf-8a6cac365611",
   "metadata": {},
   "source": [
    "# Create  File"
   ]
  },
  {
   "cell_type": "code",
   "execution_count": 1,
   "id": "ed782a07-cd0d-471f-93ae-7640c6194d95",
   "metadata": {},
   "outputs": [],
   "source": [
    "# Create or Write to a File\n",
    "with open('file.txt', 'w') as file:\n",
    "    file.write(\"This is a new file.\\n\")\n",
    "    file.write(\"Welcome to file handling in Python.\\n\")\n"
   ]
  },
  {
   "cell_type": "markdown",
   "id": "9283c98a-c87e-4128-b323-88a6acb60001",
   "metadata": {},
   "source": [
    "# Read the File "
   ]
  },
  {
   "cell_type": "code",
   "execution_count": 2,
   "id": "22019c95-daf2-412f-8ab4-9db60e2a4e37",
   "metadata": {},
   "outputs": [
    {
     "name": "stdout",
     "output_type": "stream",
     "text": [
      "File content:\n",
      " This is a new file.\n",
      "Welcome to file handling in Python.\n",
      "\n"
     ]
    }
   ],
   "source": [
    "# Read from a File\n",
    "with open('file.txt', 'r') as file:\n",
    "    content = file.read()\n",
    "    print(\"File content:\\n\", content)\n"
   ]
  },
  {
   "cell_type": "markdown",
   "id": "d5f6515a-a677-4abb-9930-20d6c0d267ce",
   "metadata": {},
   "source": [
    "# Update the file content"
   ]
  },
  {
   "cell_type": "code",
   "execution_count": 3,
   "id": "36092a3e-8314-4171-8187-2b707d5e5f69",
   "metadata": {},
   "outputs": [],
   "source": [
    "# Update or Overwrite the File\n",
    "with open('file.txt', 'w') as file:\n",
    "    file.write(\"This content has been updated.\\n\")\n"
   ]
  },
  {
   "cell_type": "code",
   "execution_count": 4,
   "id": "1230fd87-2004-4c80-b39e-ba13b0969c45",
   "metadata": {},
   "outputs": [
    {
     "name": "stdout",
     "output_type": "stream",
     "text": [
      "File content:\n",
      " This content has been updated.\n",
      "\n"
     ]
    }
   ],
   "source": [
    "with open('file.txt', 'r') as file:\n",
    "    content = file.read()\n",
    "    print(\"File content:\\n\", content)\n"
   ]
  },
  {
   "cell_type": "markdown",
   "id": "6fc20ecd-1384-4e4e-822e-86585c7f5f64",
   "metadata": {},
   "source": [
    "# Append the content "
   ]
  },
  {
   "cell_type": "code",
   "execution_count": 5,
   "id": "0a1dd80b-e854-4b69-9bec-7a5d6fde3e92",
   "metadata": {},
   "outputs": [],
   "source": [
    "# Append to the File\n",
    "with open('file.txt', 'a') as file:\n",
    "    file.write(\"This line is appended to the file.\\n\")\n"
   ]
  },
  {
   "cell_type": "code",
   "execution_count": 6,
   "id": "46f9332c-ba5c-4675-94c8-016f9fcaa89b",
   "metadata": {},
   "outputs": [
    {
     "name": "stdout",
     "output_type": "stream",
     "text": [
      "File content:\n",
      " This content has been updated.\n",
      "This line is appended to the file.\n",
      "\n"
     ]
    }
   ],
   "source": [
    "with open('file.txt', 'r') as file:\n",
    "    content = file.read()\n",
    "    print(\"File content:\\n\", content)"
   ]
  },
  {
   "cell_type": "markdown",
   "id": "c3112480-cabc-4311-9ffe-2a2f0e3fa00b",
   "metadata": {},
   "source": [
    "# Full File of File handling in Python"
   ]
  },
  {
   "cell_type": "code",
   "execution_count": 7,
   "id": "816d1b53-74c5-4fc2-84c4-fe1b7b5c8fda",
   "metadata": {},
   "outputs": [
    {
     "name": "stdout",
     "output_type": "stream",
     "text": [
      "File content:\n",
      " This is a new file.\n",
      "Welcome to file handling in Python.\n",
      "\n",
      "Updated File content:\n",
      " This content has been updated.\n",
      "This line is appended to the file.\n",
      "\n"
     ]
    }
   ],
   "source": [
    "# 1. Create or Write to a File\n",
    "with open('file.txt', 'w') as file:\n",
    "    file.write(\"This is a new file.\\n\")\n",
    "    file.write(\"Welcome to file handling in Python.\\n\")\n",
    "\n",
    "# 2. Read from the File\n",
    "with open('file.txt', 'r') as file:\n",
    "    content = file.read()\n",
    "    print(\"File content:\\n\", content)\n",
    "\n",
    "# 3. Update or Overwrite the File\n",
    "with open('file.txt', 'w') as file:\n",
    "    file.write(\"This content has been updated.\\n\")\n",
    "\n",
    "# 4. Append to the File\n",
    "with open('file.txt', 'a') as file:\n",
    "    file.write(\"This line is appended to the file.\\n\")\n",
    "\n",
    "# Read the final content\n",
    "with open('file.txt', 'r') as file:\n",
    "    final_content = file.read()\n",
    "    print(\"Updated File content:\\n\", final_content)\n"
   ]
  },
  {
   "cell_type": "code",
   "execution_count": null,
   "id": "daf652b2-b714-4235-8191-3541bfb19543",
   "metadata": {},
   "outputs": [],
   "source": []
  }
 ],
 "metadata": {
  "kernelspec": {
   "display_name": "Python 3 (ipykernel)",
   "language": "python",
   "name": "python3"
  },
  "language_info": {
   "codemirror_mode": {
    "name": "ipython",
    "version": 3
   },
   "file_extension": ".py",
   "mimetype": "text/x-python",
   "name": "python",
   "nbconvert_exporter": "python",
   "pygments_lexer": "ipython3",
   "version": "3.12.0"
  },
  "widgets": {
   "application/vnd.jupyter.widget-state+json": {
    "state": {},
    "version_major": 2,
    "version_minor": 0
   }
  }
 },
 "nbformat": 4,
 "nbformat_minor": 5
}
