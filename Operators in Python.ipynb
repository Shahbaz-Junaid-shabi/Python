{
 "cells": [
  {
   "cell_type": "markdown",
   "id": "edb8c919-d391-406b-9a3e-46c0bb91138f",
   "metadata": {},
   "source": [
    "# Operators in python "
   ]
  },
  {
   "cell_type": "markdown",
   "id": "675f0b23-d49e-4f5a-ab98-45db07e2c607",
   "metadata": {},
   "source": [
    "### 1. Arithmetic Operators\n"
   ]
  },
  {
   "cell_type": "code",
   "execution_count": 15,
   "id": "3c807c3b-0eb2-4d66-9c17-6c85752af7aa",
   "metadata": {},
   "outputs": [
    {
     "name": "stdout",
     "output_type": "stream",
     "text": [
      "Addition: 15\n",
      "Subtraction: 5\n",
      "Multiplication: 50\n",
      "Division: 2.0\n",
      "Modulus: 0\n",
      "Exponentiation: 100000\n",
      "Floor Division: 2\n"
     ]
    }
   ],
   "source": [
    "\n",
    "# Addition\n",
    "a = 10\n",
    "b = 5\n",
    "sum_value = a + b\n",
    "print('Addition:', sum_value)\n",
    "\n",
    "# Subtraction\n",
    "sub_value = a - b\n",
    "print('Subtraction:', sub_value)\n",
    "\n",
    "# Multiplication\n",
    "mul_value = a * b\n",
    "print('Multiplication:', mul_value)\n",
    "\n",
    "# Division\n",
    "div_value = a / b\n",
    "print('Division:', div_value)\n",
    "\n",
    "# Modulus\n",
    "mod_value = a % b\n",
    "print('Modulus:', mod_value)\n",
    "\n",
    "# Exponentiation\n",
    "exp_value = a ** b\n",
    "print('Exponentiation:', exp_value)\n",
    "\n",
    "# Floor Division\n",
    "floor_div_value = a // b\n",
    "print('Floor Division:', floor_div_value)\n"
   ]
  },
  {
   "cell_type": "markdown",
   "id": "a655eb01-aa12-4f1c-b93b-0520936e9543",
   "metadata": {},
   "source": [
    "### 2. Assignment Operators"
   ]
  },
  {
   "cell_type": "code",
   "execution_count": 18,
   "id": "443235b1-cbcc-49c7-bc0b-0b65868e2104",
   "metadata": {},
   "outputs": [
    {
     "name": "stdout",
     "output_type": "stream",
     "text": [
      "Add and assign: 15\n",
      "Subtract and assign: 10\n",
      "Multiply and assign: 50\n",
      "Divide and assign: 10.0\n",
      "Modulus and assign: 0.0\n",
      "Exponentiation and assign: 0.0\n",
      "Floor divide and assign: 0.0\n"
     ]
    }
   ],
   "source": [
    "# Assign\n",
    "a = 10\n",
    "b = 5\n",
    "\n",
    "# Add and assign\n",
    "a += b\n",
    "print('Add and assign:', a)\n",
    "\n",
    "# Subtract and assign\n",
    "a -= b\n",
    "print('Subtract and assign:', a)\n",
    "\n",
    "# Multiply and assign\n",
    "a *= b\n",
    "print('Multiply and assign:', a)\n",
    "\n",
    "# Divide and assign\n",
    "a /= b\n",
    "print('Divide and assign:', a)\n",
    "\n",
    "# Modulus and assign\n",
    "a %= b\n",
    "print('Modulus and assign:', a)\n",
    "\n",
    "# Exponentiation and assign\n",
    "a **= b\n",
    "print('Exponentiation and assign:', a)\n",
    "\n",
    "# Floor divide and assign\n",
    "a //= b\n",
    "print('Floor divide and assign:', a)"
   ]
  },
  {
   "cell_type": "code",
   "execution_count": null,
   "id": "ed166da8-8878-4cd0-8371-8eee2b73614e",
   "metadata": {},
   "outputs": [],
   "source": [
    "### 3. Comparison Operators"
   ]
  },
  {
   "cell_type": "code",
   "execution_count": 20,
   "id": "6630e14d-7f50-4c8b-953f-0334e05815d8",
   "metadata": {},
   "outputs": [
    {
     "name": "stdout",
     "output_type": "stream",
     "text": [
      "Equal to: False\n",
      "Not equal to: True\n",
      "Greater than: True\n",
      "Less than: False\n",
      "Greater than or equal to: True\n",
      "Less than or equal to: False\n"
     ]
    }
   ],
   "source": [
    "\n",
    "a = 10\n",
    "b = 5\n",
    "\n",
    "# Equal to\n",
    "print('Equal to:', a == b)\n",
    "\n",
    "# Not equal to\n",
    "print('Not equal to:', a != b)\n",
    "\n",
    "# Greater than\n",
    "print('Greater than:', a > b)\n",
    "\n",
    "# Less than\n",
    "print('Less than:', a < b)\n",
    "\n",
    "# Greater than or equal to\n",
    "print('Greater than or equal to:', a >= b)\n",
    "\n",
    "# Less than or equal to\n",
    "print('Less than or equal to:', a <= b)\n"
   ]
  },
  {
   "cell_type": "code",
   "execution_count": 44,
   "id": "dae03bd3-bee3-4462-bd46-78b1943f73b8",
   "metadata": {},
   "outputs": [
    {
     "name": "stdout",
     "output_type": "stream",
     "text": [
      "Logical AND: False\n",
      "Logical OR: True\n",
      "Logical NOT: False\n",
      "Bitwise AND: 0\n",
      "Bitwise OR: 14\n",
      "Bitwise XOR: 14\n",
      "Bitwise NOT: -11\n",
      "Left Shift: 40\n",
      "Right Shift: 2\n",
      "In operator: True\n",
      "Not in operator: True\n",
      "Is operator: True\n",
      "Is not operator: False\n"
     ]
    }
   ],
   "source": [
    "\n",
    "### 4. Logical Operators\n",
    "\n",
    "x = True\n",
    "y = False\n",
    "\n",
    "# Logical AND\n",
    "print('Logical AND:', x and y)\n",
    "\n",
    "# Logical OR\n",
    "print('Logical OR:', x or y)\n",
    "\n",
    "# Logical NOT\n",
    "print('Logical NOT:', not x)\n",
    "\n",
    "\n",
    "### 5. Bitwise Operators\n",
    "\n",
    "a = 10  # 1010 in binary\n",
    "b = 4   # 0100 in binary\n",
    "\n",
    "# Bitwise AND\n",
    "print('Bitwise AND:', a & b)\n",
    "\n",
    "# Bitwise OR\n",
    "print('Bitwise OR:', a | b)\n",
    "\n",
    "# Bitwise XOR\n",
    "print('Bitwise XOR:', a ^ b)\n",
    "\n",
    "# Bitwise NOT\n",
    "print('Bitwise NOT:', ~a)\n",
    "\n",
    "# Left Shift\n",
    "print('Left Shift:', a << 2)\n",
    "\n",
    "# Right Shift\n",
    "print('Right Shift:', a >> 2)\n",
    "\n",
    "\n",
    "### 6. Membership Operators\n",
    "\n",
    "fruits = ['apple', 'banana', 'cherry']\n",
    "\n",
    "# In operator\n",
    "print('In operator:', 'apple' in fruits)\n",
    "\n",
    "# Not in operator\n",
    "print('Not in operator:', 'mango' not in fruits)\n",
    "\n",
    "\n",
    "### 7. Identity Operators\n",
    "\n",
    "a = 10\n",
    "b = 10\n",
    "\n",
    "# Is operator\n",
    "print('Is operator:', a is b)\n",
    "\n",
    "# Is not operator\n",
    "print('Is not operator:', a is not b)\n"
   ]
  },
  {
   "cell_type": "markdown",
   "id": "b895fe5a-cc80-488f-9411-d558914fbf3c",
   "metadata": {},
   "source": [
    "### 4. Logical Operators\n"
   ]
  },
  {
   "cell_type": "code",
   "execution_count": 25,
   "id": "55febabf-a4cf-4aa0-a9d0-5d141c55c5f5",
   "metadata": {},
   "outputs": [
    {
     "name": "stdout",
     "output_type": "stream",
     "text": [
      "Logical AND: False\n",
      "Logical OR: True\n",
      "Logical NOT: False\n",
      "Bitwise AND: 0\n",
      "Bitwise OR: 14\n",
      "Bitwise XOR: 14\n",
      "Bitwise NOT: -11\n",
      "Left Shift: 40\n",
      "Right Shift: 2\n"
     ]
    }
   ],
   "source": [
    "\n",
    "x = True\n",
    "y = False\n",
    "\n",
    "# Logical AND\n",
    "print('Logical AND:', x and y)\n",
    "\n",
    "# Logical OR\n",
    "print('Logical OR:', x or y)\n",
    "\n",
    "# Logical NOT\n",
    "print('Logical NOT:', not x)\n",
    "\n",
    "\n",
    "### 5. Bitwise Operators\n",
    "\n",
    "a = 10  # 1010 in binary\n",
    "b = 4   # 0100 in binary\n",
    "\n",
    "# Bitwise AND\n",
    "print('Bitwise AND:', a & b)\n",
    "\n",
    "# Bitwise OR\n",
    "print('Bitwise OR:', a | b)\n",
    "\n",
    "# Bitwise XOR\n",
    "print('Bitwise XOR:', a ^ b)\n",
    "\n",
    "# Bitwise NOT\n",
    "print('Bitwise NOT:', ~a)\n",
    "\n",
    "# Left Shift\n",
    "print('Left Shift:', a << 2)\n",
    "\n",
    "# Right Shift\n",
    "print('Right Shift:', a >> 2)\n",
    "\n"
   ]
  },
  {
   "cell_type": "markdown",
   "id": "94e402c3-2fbd-4d9c-95ea-8ffc4832c1c0",
   "metadata": {},
   "source": [
    "### 6. Membership Operators\n"
   ]
  },
  {
   "cell_type": "code",
   "execution_count": 28,
   "id": "fd415eab-aeb0-4dd8-bf2e-2c7758e43b68",
   "metadata": {},
   "outputs": [
    {
     "name": "stdout",
     "output_type": "stream",
     "text": [
      "In operator: True\n",
      "Not in operator: True\n"
     ]
    }
   ],
   "source": [
    "\n",
    "fruits = ['apple', 'banana', 'cherry']\n",
    "\n",
    "# In operator\n",
    "print('In operator:', 'apple' in fruits)\n",
    "\n",
    "# Not in operator\n",
    "print('Not in operator:', 'mango' not in fruits)\n"
   ]
  },
  {
   "cell_type": "markdown",
   "id": "37886207-8ecd-4214-8262-398a6a1fd617",
   "metadata": {},
   "source": [
    "### 7. Identity Operators\n"
   ]
  },
  {
   "cell_type": "code",
   "execution_count": 42,
   "id": "711f5f89-76be-4243-9f65-464f42dc335c",
   "metadata": {},
   "outputs": [
    {
     "name": "stdout",
     "output_type": "stream",
     "text": [
      "Is operator: True\n",
      "True\n",
      "Is not operator: False\n"
     ]
    }
   ],
   "source": [
    "\n",
    "a = 10\n",
    "b = 10\n",
    "\n",
    "# Is operator\n",
    "print('Is operator:', a is b)\n",
    "print(a==b)\n",
    "# Is not operator\n",
    "print('Is not operator:', a is not b)\n"
   ]
  },
  {
   "cell_type": "code",
   "execution_count": 40,
   "id": "1981df1f-e53e-4466-b888-44204b68e3fa",
   "metadata": {},
   "outputs": [
    {
     "name": "stdout",
     "output_type": "stream",
     "text": [
      "15\n",
      "5\n",
      "50\n",
      "2.0\n",
      "0\n"
     ]
    }
   ],
   "source": [
    "# Rough Work with Operators in Python \n",
    "x = 10\n",
    "y = 5 \n",
    "print(x+y)\n",
    "print(x-y)\n",
    "print(x*y)\n",
    "print(x/y)\n",
    "print(x%y)\n",
    "\n"
   ]
  },
  {
   "cell_type": "code",
   "execution_count": null,
   "id": "092bb58d-aff7-4836-9e92-d114edb5bbbf",
   "metadata": {},
   "outputs": [],
   "source": []
  }
 ],
 "metadata": {
  "kernelspec": {
   "display_name": "Python 3 (ipykernel)",
   "language": "python",
   "name": "python3"
  },
  "language_info": {
   "codemirror_mode": {
    "name": "ipython",
    "version": 3
   },
   "file_extension": ".py",
   "mimetype": "text/x-python",
   "name": "python",
   "nbconvert_exporter": "python",
   "pygments_lexer": "ipython3",
   "version": "3.12.0"
  },
  "widgets": {
   "application/vnd.jupyter.widget-state+json": {
    "state": {},
    "version_major": 2,
    "version_minor": 0
   }
  }
 },
 "nbformat": 4,
 "nbformat_minor": 5
}
