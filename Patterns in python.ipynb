{
 "cells": [
  {
   "cell_type": "markdown",
   "id": "e2cfbdfb-b615-4fee-89ea-9cf14ca12354",
   "metadata": {},
   "source": [
    "# Patterns in python "
   ]
  },
  {
   "cell_type": "raw",
   "id": "ed6a1025-5b16-4edf-9817-dc00cfc4e23a",
   "metadata": {},
   "source": [
    "*\n",
    "**\n",
    "***\n",
    "****\n",
    "*****"
   ]
  },
  {
   "cell_type": "code",
   "execution_count": 3,
   "id": "bdc2c89c-1888-4dfa-9206-2bb447d80a50",
   "metadata": {},
   "outputs": [],
   "source": [
    "# i for rows\n",
    "# j for columns "
   ]
  },
  {
   "cell_type": "code",
   "execution_count": 25,
   "id": "e77d81c8-cdd7-4d60-b938-c6f7ae0e26d9",
   "metadata": {},
   "outputs": [
    {
     "name": "stdout",
     "output_type": "stream",
     "text": [
      "* \n",
      "* * \n",
      "* * * \n",
      "* * * * \n",
      "* * * * * \n"
     ]
    }
   ],
   "source": [
    "#  range(starting,stop,step)\n",
    "for i in range(1,6):\n",
    "    for j in range(i):\n",
    "        print(\"*\",end=\" \") \n",
    "    print()"
   ]
  },
  {
   "cell_type": "code",
   "execution_count": 28,
   "id": "32e79193-d30e-49d2-8d4c-29a4cf8eec6c",
   "metadata": {},
   "outputs": [
    {
     "name": "stdout",
     "output_type": "stream",
     "text": [
      "1 1 1 1 1 1 \n",
      "1 1 1 1 1 \n",
      "1 1 1 1 \n",
      "1 1 1 \n",
      "1 1 \n",
      "1 \n"
     ]
    }
   ],
   "source": [
    "#  range(starting,stop,step)\n",
    "for i in range(6,0,-1):\n",
    "    for j in range(i):\n",
    "        print(\"1\",end=\" \") \n",
    "    print()"
   ]
  },
  {
   "cell_type": "code",
   "execution_count": null,
   "id": "4b0a8ed3-b03d-44a5-83c8-aa1c257366dd",
   "metadata": {},
   "outputs": [],
   "source": [
    "# ****\n",
    "# ****\n",
    "# ****\n",
    "# ****\n"
   ]
  },
  {
   "cell_type": "code",
   "execution_count": 45,
   "id": "b874bb4e-9d73-473f-a3cc-c9651c7f77a6",
   "metadata": {},
   "outputs": [
    {
     "name": "stdout",
     "output_type": "stream",
     "text": [
      "* * * * \n",
      "* * * * \n",
      "* * * * \n",
      "* * * * \n"
     ]
    }
   ],
   "source": [
    "for i in range(1,5):\n",
    "    for j in range(1,5):\n",
    "      print(\"*\",end = \" \")\n",
    "    print()    \n"
   ]
  },
  {
   "cell_type": "code",
   "execution_count": 47,
   "id": "c6822020-f86e-4aa8-b4e1-f3f7fddf35a6",
   "metadata": {},
   "outputs": [
    {
     "name": "stdout",
     "output_type": "stream",
     "text": [
      "* \n",
      "* * \n",
      "* * * \n",
      "* * * * \n",
      "* * * * * \n"
     ]
    }
   ],
   "source": [
    "r = 5\n",
    "for i in range(1,r+1):\n",
    "    for j in range(1,i+1):\n",
    "        print(\"*\",end =\" \")\n",
    "    print()    "
   ]
  },
  {
   "cell_type": "code",
   "execution_count": 53,
   "id": "c42a6951-920d-479a-9700-98105d6a4302",
   "metadata": {},
   "outputs": [
    {
     "name": "stdout",
     "output_type": "stream",
     "text": [
      "* * * * * \n",
      "* * * * \n",
      "* * * \n",
      "* * \n",
      "* \n"
     ]
    }
   ],
   "source": [
    "r = 5\n",
    "for i in range(r,0,-1):\n",
    "    for j in range(i):\n",
    "        print(\"*\",end =\" \")\n",
    "    print()  "
   ]
  },
  {
   "cell_type": "code",
   "execution_count": 57,
   "id": "f55d0ef7-19b6-4ce2-9316-6329ca5dd3c5",
   "metadata": {},
   "outputs": [
    {
     "name": "stdout",
     "output_type": "stream",
     "text": [
      "1 \n",
      "1 2 \n",
      "1 2 3 \n",
      "1 2 3 4 \n",
      "1 2 3 4 5 \n"
     ]
    }
   ],
   "source": [
    "#  range(starting,stop,step)\n",
    "for i in range(1,6):\n",
    "    for j in range(i):\n",
    "        print(j+1,end=\" \") \n",
    "    print()"
   ]
  },
  {
   "cell_type": "markdown",
   "id": "898dc86d-ae5c-4a3a-88a4-7bea47811f99",
   "metadata": {},
   "source": [
    "# "
   ]
  }
 ],
 "metadata": {
  "kernelspec": {
   "display_name": "Python 3 (ipykernel)",
   "language": "python",
   "name": "python3"
  },
  "language_info": {
   "codemirror_mode": {
    "name": "ipython",
    "version": 3
   },
   "file_extension": ".py",
   "mimetype": "text/x-python",
   "name": "python",
   "nbconvert_exporter": "python",
   "pygments_lexer": "ipython3",
   "version": "3.12.0"
  },
  "widgets": {
   "application/vnd.jupyter.widget-state+json": {
    "state": {},
    "version_major": 2,
    "version_minor": 0
   }
  }
 },
 "nbformat": 4,
 "nbformat_minor": 5
}
