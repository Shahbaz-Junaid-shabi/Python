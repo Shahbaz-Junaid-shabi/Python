{
 "cells": [
  {
   "cell_type": "markdown",
   "id": "b67b3472-f4c8-4ee8-9f1f-4f4800c48242",
   "metadata": {},
   "source": [
    "# Datatype "
   ]
  },
  {
   "cell_type": "code",
   "execution_count": 5,
   "id": "76bc5457-005a-441d-add3-e395ed9bd522",
   "metadata": {},
   "outputs": [
    {
     "name": "stdout",
     "output_type": "stream",
     "text": [
      "value x  5\n",
      "value y  -10\n",
      "<class 'int'>\n",
      "<class 'int'>\n"
     ]
    }
   ],
   "source": [
    "#integer \n",
    "x = 5\n",
    "y = -10\n",
    "print(\"value x \",x)\n",
    "print(\"value y \",y)\n",
    "print(type(x))\n",
    "print(type(y))"
   ]
  },
  {
   "cell_type": "code",
   "execution_count": 7,
   "id": "1811ca72-b8f8-4d55-97dc-d4a7ee94279c",
   "metadata": {},
   "outputs": [
    {
     "name": "stdout",
     "output_type": "stream",
     "text": [
      "(3+5j)\n"
     ]
    }
   ],
   "source": [
    "#complex\n",
    "x = 3 + 5j\n",
    "y = complex(2, -4)\n",
    "print(x)"
   ]
  },
  {
   "cell_type": "code",
   "execution_count": 9,
   "id": "382593d7-5fc7-4c09-a0a7-1058b732de1b",
   "metadata": {},
   "outputs": [
    {
     "data": {
      "text/plain": [
       "complex"
      ]
     },
     "execution_count": 9,
     "metadata": {},
     "output_type": "execute_result"
    }
   ],
   "source": [
    "type (x)"
   ]
  },
  {
   "cell_type": "markdown",
   "id": "f35240dd-6edb-4054-88ea-311f6e5a2242",
   "metadata": {},
   "source": [
    " # Boolean datapye"
   ]
  },
  {
   "cell_type": "code",
   "execution_count": 16,
   "id": "90fe7093-fb08-4a65-8916-55ed6a965a45",
   "metadata": {},
   "outputs": [
    {
     "name": "stdout",
     "output_type": "stream",
     "text": [
      "<class 'bool'>\n",
      "<class 'bool'>\n"
     ]
    }
   ],
   "source": [
    "a = True\n",
    "b = False\n",
    "print(type(a))\n",
    "print(type(b))"
   ]
  },
  {
   "cell_type": "markdown",
   "id": "0e6299b7-bfa2-4465-832f-5afb847b6223",
   "metadata": {},
   "source": [
    "# SET"
   ]
  },
  {
   "cell_type": "code",
   "execution_count": 23,
   "id": "cef935ff-30b0-40f7-85b6-943a49f78658",
   "metadata": {},
   "outputs": [
    {
     "name": "stdout",
     "output_type": "stream",
     "text": [
      "{1, 2, 3}\n",
      "{'apple', 'banana', 'cherry'}\n"
     ]
    }
   ],
   "source": [
    "my_set = {1, 2, 3,3}\n",
    "fruits = {\"apple\", \"banana\", \"cherry\"}\n",
    "print(my_set)\n",
    "print(fruits)"
   ]
  },
  {
   "cell_type": "raw",
   "id": "59ed70c1-0eae-42ab-a179-6c71f7d4144d",
   "metadata": {},
   "source": [
    "#set can't be show the duplicate value"
   ]
  },
  {
   "cell_type": "markdown",
   "id": "bc5073e3-a65f-4e90-befd-f1b06f376883",
   "metadata": {},
   "source": [
    "# Sequence Datatype "
   ]
  },
  {
   "cell_type": "code",
   "execution_count": 36,
   "id": "b7193b53-f110-4f3e-879d-fd351ce2c834",
   "metadata": {},
   "outputs": [
    {
     "name": "stdout",
     "output_type": "stream",
     "text": [
      "<class 'str'>\n",
      "<class 'list'>\n",
      "<class 'tuple'>\n"
     ]
    }
   ],
   "source": [
    "# String \n",
    "# list \n",
    "# tuple \n",
    "\n",
    "s = \"Hello, World!\"\n",
    "s2 = 'Python'\n",
    "print(type(s))\n",
    "my_list = [1, 2, 3]\n",
    "fruits = [\"apple\", \"banana\", \"cherry\"]\n",
    "\n",
    "print(type(my_list))\n",
    "\n",
    "my_tuple = (1, 2, 3)\n",
    "coordinates = (10.5, 20.6)\n",
    "\n",
    "print(type(my_tuple))\n"
   ]
  },
  {
   "cell_type": "markdown",
   "id": "fd0af918-b847-4972-a5ad-3888bd90b814",
   "metadata": {},
   "source": [
    "# Dictionary"
   ]
  },
  {
   "cell_type": "code",
   "execution_count": 39,
   "id": "fb80cb45-63a2-48bd-a3c5-bdd78a299e38",
   "metadata": {},
   "outputs": [
    {
     "name": "stdout",
     "output_type": "stream",
     "text": [
      "{'name': 'Alice', 'age': 30, 'city': 'New York'}\n",
      "<class 'dict'>\n"
     ]
    }
   ],
   "source": [
    "person = {\"name\": \"Alice\", \"age\": 30, \"city\": \"New York\"}\n",
    "print(person)\n",
    "print(type(person))"
   ]
  },
  {
   "cell_type": "markdown",
   "id": "eb478988-fb9f-44f5-be7a-18b7fa9d3743",
   "metadata": {},
   "source": [
    "# None"
   ]
  },
  {
   "cell_type": "code",
   "execution_count": 44,
   "id": "ae4870d1-e969-4fd8-bcd3-8a3b2d140423",
   "metadata": {},
   "outputs": [
    {
     "name": "stdout",
     "output_type": "stream",
     "text": [
      "<class 'NoneType'>\n",
      "None\n"
     ]
    }
   ],
   "source": [
    "a = None\n",
    "print(type(a))\n",
    "print(None)"
   ]
  },
  {
   "cell_type": "markdown",
   "id": "94f775a3-167b-4827-b27c-31da998fd709",
   "metadata": {},
   "source": [
    "# Frozenset"
   ]
  },
  {
   "cell_type": "code",
   "execution_count": 56,
   "id": "6ad0dc38-c978-4317-b35a-1f5ace492e0e",
   "metadata": {},
   "outputs": [
    {
     "name": "stdout",
     "output_type": "stream",
     "text": [
      "{1, 2, 3, 4}\n",
      "frozenset({1, 2, 3})\n"
     ]
    }
   ],
   "source": [
    "my_set = {1, 2, 3}\n",
    "my_set.add(4)  # You can add items\n",
    "print(my_set)  # Output: {1, 2, 3, 4}\n",
    "\n",
    "\n",
    "my_frozenset = frozenset([1, 2, 3])\n",
    "# my_frozenset.add(2)  # This will cause an error because frozenset is immutable.\n",
    "print(my_frozenset)  # Output: frozenset({1, 2, 3})\n"
   ]
  },
  {
   "cell_type": "code",
   "execution_count": 58,
   "id": "5ca78f31-3176-4b48-9a66-2ba557dbafad",
   "metadata": {},
   "outputs": [],
   "source": [
    "# this datatype can't be change such as add and remove "
   ]
  }
 ],
 "metadata": {
  "kernelspec": {
   "display_name": "Python [conda env:base] *",
   "language": "python",
   "name": "conda-base-py"
  },
  "language_info": {
   "codemirror_mode": {
    "name": "ipython",
    "version": 3
   },
   "file_extension": ".py",
   "mimetype": "text/x-python",
   "name": "python",
   "nbconvert_exporter": "python",
   "pygments_lexer": "ipython3",
   "version": "3.12.7"
  }
 },
 "nbformat": 4,
 "nbformat_minor": 5
}
