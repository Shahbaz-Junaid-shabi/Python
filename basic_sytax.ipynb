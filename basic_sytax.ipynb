{
 "cells": [
  {
   "cell_type": "markdown",
   "id": "377fb1c4-9bc9-4c0d-beb2-44437a11c2af",
   "metadata": {},
   "source": [
    "#Basic Function of python"
   ]
  },
  {
   "cell_type": "code",
   "execution_count": 3,
   "id": "9c352ee0-e909-43a7-9c99-18ce382fb72f",
   "metadata": {},
   "outputs": [
    {
     "name": "stdout",
     "output_type": "stream",
     "text": [
      "3434\n"
     ]
    },
    {
     "data": {
      "text/plain": [
       "builtin_function_or_method"
      ]
     },
     "execution_count": 3,
     "metadata": {},
     "output_type": "execute_result"
    }
   ],
   "source": [
    "print(3434)\n",
    "type(print)"
   ]
  },
  {
   "cell_type": "code",
   "execution_count": 9,
   "id": "db49ad48-01c7-4f43-8059-3cb4719722ba",
   "metadata": {},
   "outputs": [
    {
     "name": "stdout",
     "output_type": "stream",
     "text": [
      "<class 'int'>\n"
     ]
    },
    {
     "data": {
      "text/plain": [
       "int"
      ]
     },
     "execution_count": 9,
     "metadata": {},
     "output_type": "execute_result"
    }
   ],
   "source": [
    "#/*asdjasdfksdfk /*\n",
    "a = 1234123 \n",
    "print(type(a))\n",
    "type(a)"
   ]
  },
  {
   "cell_type": "code",
   "execution_count": 11,
   "id": "cfdfff03-330b-4ce7-a26a-e6155dbead64",
   "metadata": {},
   "outputs": [],
   "source": [
    "#using input "
   ]
  },
  {
   "cell_type": "code",
   "execution_count": 23,
   "id": "618d3c2b-10c3-46ab-8b0b-e2519c3c5cd6",
   "metadata": {},
   "outputs": [
    {
     "name": "stdin",
     "output_type": "stream",
     "text": [
      "Enter your phone no : 3423\n"
     ]
    }
   ],
   "source": [
    "name = int(input(\"Enter your phone no :\"))"
   ]
  },
  {
   "cell_type": "code",
   "execution_count": 29,
   "id": "464b4f05-c840-451e-9abb-feb79daf0f2f",
   "metadata": {},
   "outputs": [],
   "source": [
    "# This is multiple line commments Ctrl + /"
   ]
  },
  {
   "cell_type": "code",
   "execution_count": 25,
   "id": "391ab994-bc75-45ff-93df-9bddc5034e27",
   "metadata": {},
   "outputs": [],
   "source": [
    "# jasdfjasdfjasfjasdfkas\n",
    "# sadjfaskjajkasjasdjk"
   ]
  },
  {
   "cell_type": "code",
   "execution_count": null,
   "id": "0caa26b7-4528-450a-8355-c7a459814185",
   "metadata": {},
   "outputs": [],
   "source": []
  }
 ],
 "metadata": {
  "kernelspec": {
   "display_name": "Python [conda env:base] *",
   "language": "python",
   "name": "conda-base-py"
  },
  "language_info": {
   "codemirror_mode": {
    "name": "ipython",
    "version": 3
   },
   "file_extension": ".py",
   "mimetype": "text/x-python",
   "name": "python",
   "nbconvert_exporter": "python",
   "pygments_lexer": "ipython3",
   "version": "3.12.7"
  }
 },
 "nbformat": 4,
 "nbformat_minor": 5
}
