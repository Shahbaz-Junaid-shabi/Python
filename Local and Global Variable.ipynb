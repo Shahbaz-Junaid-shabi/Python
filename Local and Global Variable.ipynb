{
 "cells": [
  {
   "cell_type": "markdown",
   "id": "5e9cd5bf-9dbb-443f-a16f-9472205f0cc9",
   "metadata": {},
   "source": [
    "# Local Variable and Global Variable"
   ]
  },
  {
   "cell_type": "markdown",
   "id": "63e83b14-d165-4ac9-ad2a-094033244009",
   "metadata": {},
   "source": [
    "# Global Variable "
   ]
  },
  {
   "cell_type": "code",
   "execution_count": 12,
   "id": "1d6c6d2b-564d-49b7-81cc-441371ae5280",
   "metadata": {},
   "outputs": [
    {
     "name": "stdout",
     "output_type": "stream",
     "text": [
      "print global variable 10\n",
      "12\n"
     ]
    }
   ],
   "source": [
    "x = 10 \n",
    "def myfun():\n",
    "    global x\n",
    "    print(\"print global variable\",x)\n",
    "    x = 12\n",
    "\n",
    "myfun()\n",
    "print(x)"
   ]
  },
  {
   "cell_type": "markdown",
   "id": "cd74aaeb-e87b-431f-8e48-f3169400f954",
   "metadata": {},
   "source": [
    "# Local Variable \n"
   ]
  },
  {
   "cell_type": "code",
   "execution_count": 17,
   "id": "4db22aec-30db-4c8f-96ad-43a2306f57ae",
   "metadata": {},
   "outputs": [
    {
     "name": "stdout",
     "output_type": "stream",
     "text": [
      "12\n"
     ]
    }
   ],
   "source": [
    "# which can used in it scope \n",
    "def sum(x,y):\n",
    "  \n",
    "    return x+y\n",
    "\n",
    "sum(10,20)\n",
    "\n",
    "print(x) #can't get the value of x because it is local variable\n"
   ]
  },
  {
   "cell_type": "code",
   "execution_count": null,
   "id": "9340f195-5d01-42b6-841b-17604bb187bb",
   "metadata": {},
   "outputs": [],
   "source": []
  }
 ],
 "metadata": {
  "kernelspec": {
   "display_name": "Python 3 (ipykernel)",
   "language": "python",
   "name": "python3"
  },
  "language_info": {
   "codemirror_mode": {
    "name": "ipython",
    "version": 3
   },
   "file_extension": ".py",
   "mimetype": "text/x-python",
   "name": "python",
   "nbconvert_exporter": "python",
   "pygments_lexer": "ipython3",
   "version": "3.12.0"
  },
  "widgets": {
   "application/vnd.jupyter.widget-state+json": {
    "state": {},
    "version_major": 2,
    "version_minor": 0
   }
  }
 },
 "nbformat": 4,
 "nbformat_minor": 5
}
